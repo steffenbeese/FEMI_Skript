{
 "cells": [
  {
   "cell_type": "markdown",
   "id": "d7e0864c",
   "metadata": {
    "editable": true,
    "slideshow": {
     "slide_type": "skip"
    }
   },
   "source": [
    "<!-- $\n",
    "\\newcommand{\\MtdFull}[1]{\\frac{D \\, #1}{D \\, t}}\n",
    "\\newcommand{\\Pd}[2]{\\frac{\\partial #1}{\\partial #2}}\n",
    "\\newcommand{\\dt}[1]{#1 ^{\\bullet}}\n",
    "\\newcommand{\\dV}{\\; \\text{d}V}\n",
    "\\newcommand{\\dA}{\\; \\text{d}A}\n",
    "\\newcommand{\\dx}{\\; \\text{ d}x}\n",
    "\\newcommand{\\dy}{\\; \\text{ d}y}\n",
    "\\newcommand{\\dz}{\\; \\text{ d}z}\n",
    "\\newcommand{\\dxi}{\\; \\text{ d}\\xi}\n",
    "\\newcommand{\\deta}{\\; \\text{ d}\\eta}\n",
    "\\newcommand{\\dzeta}{\\; \\text{ d}\\zeta}\n",
    "\\newcommand{\\grad}[1]{\\text{grad}\\left(#1\\right)}\n",
    "\\renewcommand{\\div}[1]{\\text{div} \\left(#1\\right)}\n",
    "\\newcommand{\\td}[1]{\\dot{#1}}\n",
    "\\newcommand{\\tdd}[1]{\\ddot{#1}}\n",
    "\\newcommand{\\T}{\\rp{T}}\n",
    "\\newcommand{\\rp}[1]{^{\\text{#1}}}\n",
    "\\newcommand{\\rs}[1]{_{\\text{#1}}}\n",
    "\\renewcommand{\\bm}[1]{\\boldsymbol{#1}}\n",
    "\\newcommand{\\e}{\\epsilon}\n",
    "\\newcommand{\\eb}{\\bm{\\e}}\n",
    "\\newcommand{\\s}{\\sigma}\n",
    "\\newcommand{\\sb}{\\bm{\\sigma}}\n",
    "$ -->\n",
    "\n",
    "\n",
    "<!-- ```{admonition} Todo\n",
    ":class: warning\n",
    "- [x] Motivation\n",
    "- [x] Lernziele\n",
    "- [x] Bilanzgleichungen\n",
    "   - [x] lokale Form \n",
    "   - [x] Randbedingungen\n",
    "   - [x] Anwendung\n",
    "   - [x] Zusammenfassende Tabelle\n",
    "- [x] Kinematik\n",
    "   - [x] lineare Kinematik\n",
    "- [x] Materialmodellierung\n",
    "   - [x] Wärmeleitung nach Fourier\n",
    "   - [x] Lineare Elastizität\n",
    "   - [x] Ausblick\n",
    "   - [x] Ebener Spannungszustand\n",
    "   - [x] Ebener Verzerrungszustand\n",
    "   - [x] Rotationssymmetrie\n",
    "``` -->\n",
    "\n",
    "```{admonition} Lernziele\n",
    ":class: important\n",
    "- Wie werden mechanische Problemstellungen formuliert?\n",
    "- Was sind die Unbekannten der Bilanzgleichungen?\n",
    "- Welche Zutaten braucht man um ein lösbares Problem zu erhalten?\n",
    "- Wie lauten die wesentlichen Bilanzgleichungen der Kontinuumsmechanik?\n",
    "- In welche Kategorien werden Randbedingungen untergliedert?\n",
    "- Wozu brauchen wir Materialmodelle?\n",
    "- Welches sind die grundlegenden Materialmodelle der Wärmeleitung, Fluidtransport und der Strukturmechanik?\n",
    "- Mit welchen Vereinfachungen kann die Dimensionalität der Problemstellung reduziert werden?\n",
    "- Was sind die Vorraussetzungen hierfür?\n",
    "```"
   ]
  },
  {
   "cell_type": "markdown",
   "id": "bac7fd6f",
   "metadata": {
    "editable": true,
    "slideshow": {
     "slide_type": "slide"
    }
   },
   "source": [
    "# Mathematische Modellbildung in der Kontinuumstheorie\n",
    "\n",
    "In diesem Kapitel werden die grundlegenden Gleichungen der Kontinuumsmechanik vorgestellt. Dies dient als Ausgangspunkt für die numerische Lösung mechanischer Problemstellungen. Während der Vorstellung der Ausgangsgleichungen wird zudem die verwendete Notation eingeführt.\n",
    "\n",
    "\n",
    "## Notation\n",
    "\n",
    "Im Rahmen dieses Moduls wird die folgende symbolische Schreibweise verwendet:\n",
    "\n",
    "\n",
    "| Tensorstufe                 | Symbol                    | Tensorschreibweise         |\n",
    "|-----------------------------|---------------------------|----------------------------|\n",
    "| Tensor der Stufe 0 (Skalar) | $a$, $b$, $\\varphi$       | $a$, $b$, $\\varphi$        |\n",
    "| Tensor der Stufe 1 (Vektor) | $\\bm{a}$, $\\bm{b}$        | $a_i\\bm{e}_i$, $b_i\\bm{e}_i$ |\n",
    "| Tensor der stufe 2 (Dyade)  | $\\bm{A}$, $\\bm{\\sigma}$   | $A_{ij}\\bm{e}_i\\bm{e}_j$, $B_{ij}\\bm{e}_i\\bm{e}_j$ |    \n",
    "| Tensor der stufe 4          | $\\mathbb{C}$, $\\mathbb{A}$| $\\mathbb{C}\\bm{e}_i\\bm{e}_j\\bm{e}_k\\bm{e}_l$, $\\mathbb{A}\\bm{e}_i\\bm{e}_j\\bm{e}_k\\bm{e}_l$ |\n",
    "\n",
    "Soweit möglich erhalten Tensoren der Stufe 2 Großbuchstaben als Symbol, während Vektoren mit Kleinbuchstaben dargestellt werden. Handschriftlich wird ein Tensor durch einen Unterstrich repräsentiert $\\underline{A}=\\bm{A}$. Für Vektoren ist alternativ auch der Vektorpfeil gebräuchlich $\\underline{a} = \\vec{a} = \\bm{a}$."
   ]
  },
  {
   "cell_type": "markdown",
   "id": "b485961d",
   "metadata": {
    "editable": true,
    "slideshow": {
     "slide_type": "slide"
    }
   },
   "source": [
    "## Bilanzgleichungen der Kontinuumsmechanik\n",
    "\n",
    "\n",
    "In diesem Abschnitt werden wir die grundlegenden Bilanzgleichungen der Kontinuumsmechanik einführen. Diese Gleichungen sind das Fundament für die Beschreibung des physikalischen Verhaltens und bilden den Ausgangspunkt für die Finite-Elemente-Methode. Die Bilanzgleichungen repräsentieren Erhaltungsprinzipien, die für jedes Kontinuum gelten, unabhängig von den spezifischen Materialeigenschaften. Die Bilanzgleichungen dienen als Bestimmungsgleichung für die Feldgrößen:\n",
    "  - Druck $p(\\bm{x},t)$\n",
    "  - Verschiebung $\\bm{u}(\\bm{x},t)$\n",
    "  - Temperatur $\\theta(\\bm{x},t)$.\n",
    "\n",
    "Als Feldgröße bezeichnet man physikalische Größen, denen zu jedem Zeitpunkt $t$ und zu jedem materiellen Punkt $\\bm{x}$ ein Wert zugeordnet wird.\n",
    "\n",
    "Die vier wesentlichen Bilanzgleichungen sind:\n",
    "\n",
    "- Massenerhaltung\n",
    "- Impulserhaltung\n",
    "- Drehimpulserhaltung (hieraus resultiert die Symmetrie des Spannungstensors $\\bm{\\sigma}$)\n",
    "- Energieerhaltung (1. Hauptsatz der Thermodynamik)"
   ]
  },
  {
   "cell_type": "markdown",
   "id": "cf619b1e",
   "metadata": {
    "editable": true,
    "slideshow": {
     "slide_type": "slide"
    }
   },
   "source": [
    "### Massenerhaltung\n",
    "\n",
    "```{figure} images/Massenbilanz.jpg\n",
    "---\n",
    "height: 200px\n",
    "name: massenbilanz\n",
    "---\n",
    "Ein- und Ausfluss eines infinitesimalen Volumenelementes **Austauschen**\n",
    "```\n",
    "\n",
    "Die Massenerhaltung besagt, dass die Masse eines geschlossenen Systems konstant bleibt, oder wie in der Abbildung, dass die zeitliche Änderung der Masse eines Systems gleich der Differenz von Zustrom und Abfluss ist. In Abwesenheit von Massenquellen oder -senken kann dies mathematisch ausgedrückt werden als:\n",
    "\n",
    "```{math}\n",
    ":label: Massenbilanz\n",
    "\\dot{\\varrho} +  \\div{\\varrho {\\bm{v}}} = 0\n",
    "```\n",
    "\n",
    "Hier ist $\\varrho$ die Dichte und $\\bm{v}$ die Geschwindigkeit des Materials. Die zeitliche Ableitung einer Größe $\\square$ wird durch einen Punkt über der Größe dargestellt $\\td{\\square}$.\n",
    "\n",
    "```{note}\n",
    "Die Massenbilanz ist für gewöhnliche Festkörper stets erfüllt und muss nicht separat gelöst werden. Anders sieht dies im Bereich der Biomechanik oder Geomechanik aus. Hier gibt es z.B. Wachstumsprozesse (Knochen) oder Sickerströmungen. Mit der Massenbilanz kann man die Konzentration $c(\\bm{x},t)$ eines Bestandteils oder den Druck $p(\\bm{x},t)$ einer Phase bestimmen.\n",
    "```\n",
    "\n",
    "Formuliert man die Massenbilanz für Fluide, dann ist die Massendichte eine Funktion des Druckes $p$ und man kann die Zeitableitung in {eq}`Massenbilanz` über die Kettenregel auswerten:\n",
    "\n",
    "```{math}\n",
    ":label: Massenbilanz2\n",
    " \\underbrace{\\Pd{\\varrho}{p}}_{=:\\frac{\\varrho}{\\kappa}} \\td{p} + \\div{\\varrho {\\bm{v}}} = 0 \\; .\n",
    "```\n",
    "\n",
    "Die primäre Größe nach der die partielle Differentialgleichung gelöst wird ist damit der Druck $p$. Als sekundäre Größe bezeichnet man Feldgrößen, welche von den primären Größen abgeleitet wurden. Im Fall der Massenbilanz des Fluides ist dies die Geschwindigkeit der Materialpartikel $\\bm{v}$. Die Gleichungen {eq}`Massenbilanz` und {eq}`Massenbilanz2` beschreiben wie sich die bilanzierte Größe ($p$) in der Zeit verändert, eine Information über den absoluten Wert der Größe erhält man erst mit der Einführung von Anfangs- und Randwerten:\n",
    "\n",
    "\\begin{align}\n",
    "p(\\bm{x},t=t_0) & = \\tilde{p}_0 \\qquad &\\forall \\bm{x} \\in \\mathcal{B}& \\\\\n",
    "p(\\bm{x},t) & = \\tilde{p} \\qquad &\\forall \\bm{x} \\in \\partial \\mathcal{B}_p& \\\\\n",
    "\\varrho \\bm{v}\\T \\bm{n} & = \\tilde{q}_m \\qquad &\\forall \\bm{x} \\in \\partial\\mathcal{B}_m&\n",
    "\\end{align}\n",
    "\n",
    "Hierbei wird der zweite Term auch als Dirichlet oder wesentliche Randbedingung und der dritte Term als Neumann oder natürliche Randbedingung bezeichnet. \n",
    "\n",
    "Diese Art der mathematischen Problemstellung nennt man Anfangsrandwertproblem (IBVP - Initial Boundary Value Problem)."
   ]
  },
  {
   "cell_type": "markdown",
   "id": "9f1ef182",
   "metadata": {
    "editable": true,
    "slideshow": {
     "slide_type": "slide"
    }
   },
   "source": [
    "```{admonition} IVBP1 - Massenerhaltung\n",
    ":class: tip\n",
    "Bestimme das Druckfeld $p(\\bm{x},t): \\mathcal{B} \\times [t_0,t] \\rightarrow \\mathcal{R}^1$, sodass für alle materiellen Punkte $\\bm{x} \\, \\in \\, \\mathcal{B}$ zu jedem Zeitpunkt $t \\, \\in \\, [t_0,t]$ die Bilanzgleichung:\n",
    "\n",
    "$$\n",
    "\\frac{\\varrho}{\\kappa} \\td{p} + \\div{\\varrho {\\bm{v}}} = 0 \n",
    "$$\n",
    "\n",
    "unter Einhaltung der Anfangs- und Randbedingungen:\n",
    "\n",
    "$$\n",
    "p(\\bm{x},t=t_0) & = \\tilde{p}_0 \\qquad &\\forall \\bm{x} \\in \\mathcal{B}& \\\\\n",
    "p(\\bm{x},t) & = \\tilde{p} \\qquad &\\forall \\bm{x} \\in \\partial \\mathcal{B}_p& \\\\\n",
    "\\varrho \\bm{v}\\T \\bm{n} & = \\tilde{q}_m \\qquad &\\forall \\bm{x} \\in \\partial\\mathcal{B}_m&\n",
    "$$\n",
    "\n",
    "erfüllt ist.\n",
    "```"
   ]
  },
  {
   "cell_type": "markdown",
   "id": "1eb0cc6b",
   "metadata": {
    "editable": true,
    "slideshow": {
     "slide_type": "slide"
    }
   },
   "source": [
    "### Impulserhaltung\n",
    "```{figure} images/Impulsbilanz.jpg\n",
    "---\n",
    "height: 200px\n",
    "name: impulsbilanz\n",
    "---\n",
    "Körper $\\mathcal{B}$ unter Einwirkung der externen Oberflächenkraft $\\tilde{\\bm{t}}$ und der Volumenlast $\\bm{b}$\n",
    "```\n",
    "\n",
    "Die Impulserhaltung, oft formuliert als Newtons zweites Gesetz, besagt, dass die Änderung des Impulses $\\rho \\bm{v}$ eines Körpers gleich der Summe der auf ihn wirkenden Kräfte ist. Für ein Kontinuum wird dies durch die Cauchy-Bewegungsgleichungen ausgedrückt:\n",
    "\n",
    "\\begin{equation}\n",
    " \\varrho \\td{\\bm{v}} =\\div{\\bm{\\sigma}} + \\rho \\bm{b}\n",
    "\\end{equation}\n",
    "\n",
    "$\\boldsymbol{\\sigma}$ steht hierbei für den Spannungstensor und $\\mathbf{b}$ für die Volumenkraft pro Masseneinheit.\n",
    "\n",
    "```{note}\n",
    "Die Impulsbilanz ist eine vektorielle partielle Differentialgleichung. Mit ihrer Hilfe kann man das Verschiebungsfeld $\\bm{u}(\\bm{x},t)$ und das Spannungsfeld $\\bm{\\sigma}(\\bm{x},t)$ eines Festkörpers bestimmen.\n",
    "```\n",
    "\n",
    "Die primäre Feldgröße dieser Anfangsrandwertproblems ist die Verschiebung $\\bm{u}(\\bm{x},t)$ der Materialpartikel. Die Sekundäre Größe ist die Spannung $\\bm{\\sigma}(\\bm{x},t)$, welche wiederum von den Dehnungen $\\bm{\\epsilon}$ abhängig ist. Als Randwerte können entweder Verschiebungen (wesentliche Randbedingung) vorgegeben werden oder Oberflächenspannungen (natürliche Randbedingungen)."
   ]
  },
  {
   "cell_type": "markdown",
   "id": "480b0ea6",
   "metadata": {
    "editable": true,
    "slideshow": {
     "slide_type": "slide"
    }
   },
   "source": [
    "```{admonition} IVBP2 - Impulsbilanz\n",
    ":class: tip\n",
    "Bestimme das Verschiebungsfeld $\\bm{u}(\\bm{x},t): \\mathcal{B} \\times [t_0,t] \\rightarrow \\mathcal{R}^3$, sodass für alle materiellen Punkte $\\bm{x} \\, \\in \\, \\mathcal{B}$ zu jedem Zeitpunkt $t \\, \\in \\, [t_0,t]$ die Bilanzgleichung:\n",
    "\n",
    "$$\n",
    "\\varrho \\td{\\bm{v}} =\\div{\\bm{\\sigma}} + \\rho \\bm{b} \n",
    "$$\n",
    "\n",
    "unter Einhaltung der Anfangs- und Randbedingungen:\n",
    "\n",
    "$$\n",
    "\\bm{u}(\\bm{x},t=t_0) & = \\tilde{\\bm{u}}_0 \\qquad &\\forall \\bm{x} \\in \\mathcal{B}& \\\\\n",
    "\\bm{u}(\\bm{x},t) & = \\tilde{\\bm{u}} \\qquad &\\forall \\bm{x} \\in \\partial \\mathcal{B}_u& \\\\\n",
    "\\bm{\\sigma}\\T \\bm{n} & = \\tilde{\\bm{t}} \\qquad &\\forall \\bm{x} \\in \\partial\\mathcal{B}_{\\sigma}&\n",
    "$$\n",
    "\n",
    "erfüllt ist.\n",
    "```"
   ]
  },
  {
   "cell_type": "markdown",
   "id": "be43a441",
   "metadata": {
    "editable": true,
    "slideshow": {
     "slide_type": "slide"
    }
   },
   "source": [
    "### Energieerhaltung\n",
    "\n",
    "Die Energieerhaltung stellt sicher, dass die gesamte Energie in einem abgeschlossenen System erhalten bleibt. Für ein Kontinuum kann die Energiebilanz folgendermaßen ausgedrückt werden:\n",
    "\n",
    "```{math}\n",
    ":label: 1HS_01\n",
    "\\rho \\MtdFull{e} = \\bm{\\sigma}\\T \\td{\\bm{\\epsilon}} - \\div{\\bm{q}} + \\varrho r\n",
    "```\n",
    "\n",
    "Hier ist $e$ die spezifische innere Energie, $\\bm{q}$ der Wärmeflussvektor und $r$ die Wärmequelle pro Masseneinheit.\n",
    "\n",
    "```{note}\n",
    "Die skalare Energiebilanzgleichung dient zur Berechnung des Temperaturfeldes $\\theta(\\bm{x},t)$.\n",
    "```\n",
    "\n",
    "Vernachlässigt man die Kopplung zwischen Verschiebung und Temperatur erhält man aus Gleichung {eq}`1HS_01` die bekannte instationäre Wärmeleitungsgleichung:\n",
    "\n",
    "\\begin{equation}\n",
    "\\varrho c_e \\Pd{\\theta}{t} + \\div{\\bm{q}} - \\varrho r = 0\n",
    "\\end{equation}\n",
    "\n",
    "Hier ist die primäre Variable die Temperatur $\\theta(\\bm{x},t)$ und die sekundäre Variable der Wärmeflussvektor $\\bm{q}(\\bm{x},t)$. Gemeinsam mit den Rand- und Anfangsbedingungen erhält man das Anfangsrandwertproblem:"
   ]
  },
  {
   "cell_type": "markdown",
   "id": "2613512b",
   "metadata": {
    "editable": true,
    "slideshow": {
     "slide_type": "slide"
    }
   },
   "source": [
    "```{admonition} IVBP3 - Energiebilanz\n",
    ":class: tip\n",
    "Bestimme das Temperaturfeld $\\theta(\\bm{x},t): \\mathcal{B} \\times [t_0,t] \\rightarrow \\mathcal{R}^1$, sodass für alle materiellen Punkte $\\bm{x} \\, \\in \\, \\mathcal{B}$ zu jedem Zeitpunkt $t \\, \\in \\, [t_0,t]$ die Bilanzgleichung:\n",
    "\n",
    "$$\n",
    "\\varrho c_e \\Pd{\\theta}{t} + \\div{\\bm{q}} - \\varrho r = 0\n",
    "$$\n",
    "\n",
    "unter Einhaltung der Anfangs- und Randbedingungen:\n",
    "\n",
    "$$\n",
    "\\theta(\\bm{x},t=t_0) & = \\tilde{\\theta}_0 \\qquad &\\forall \\bm{x} \\in \\mathcal{B}& \\\\\n",
    "\\theta(\\bm{x},t) & = \\tilde{\\theta} \\qquad &\\forall \\bm{x} \\in \\partial \\mathcal{B}_{\\theta}& \\\\\n",
    "\\bm{q}\\T \\bm{n} & = \\tilde{\\bm{q}} \\qquad &\\forall \\bm{x} \\in \\partial\\mathcal{B}_q&\n",
    "$$\n",
    "\n",
    "erfüllt ist.\n",
    "```"
   ]
  },
  {
   "cell_type": "markdown",
   "id": "cb142e24",
   "metadata": {
    "editable": true,
    "slideshow": {
     "slide_type": "slide"
    }
   },
   "source": [
    "### Zusammenfassung\n",
    "\n",
    "In den vorangestellten Abschnitten wurde die Bilanzgleichungen der Kontinuumsmechanik verwendet um die für die Ingenieurpraxis wichtigen Anfangsrandwertprobleme der Fluid-, Struktur- und Thermomechanik aufzustellen. Für diese Systeme von gekoppelten partiellen Differentialgleichungen gibt es nur in wenigen Sonderfällen analytische Lösungen. Einige Davon sind uns aus den Vorlesungen zur Elastostatik und Stömungslehr bekannt. Aus diesem Grund haben sich numerische Berechnungsverfahren durchgesetzt. Um zu überprüfen ob die Anfangsrandwertprobleme in der obigen Form lösbar sind werden in der nachfolgenden Tabelle die Bestimmungsgleichungen und die Unbekannten gegenübergestellt.\n",
    "\n",
    "| Bestimmungsgleichung | Anzahl an Gleichungen | Unbekannte   | Anzahl an Unbekannten | Anzahl an zusätzlichen Bedingungen |\n",
    "|----------------------|-----------------------|--------------|-----------------------|------------------------------------|\n",
    "| Massenbilanz         | 1                     | $p$, $\\bm{v}$| 4                     | 3                                  |\n",
    "| Impulsbilanz         | 3                     | $\\bm{u}$, $\\bm{\\sigma}$, $\\bm{\\epsilon}$| 15 | 12                         |\n",
    "| Energiebilanz        | 1                     | $\\theta$, $\\bm{q}$| 4                | 3                                  |\n",
    "\n",
    "Wie leicht zu erkennen ist genügt die Anzahl an Gleichungen für keines der obigen Problemstellungen zur Lösung. Es werden darum zusätzliche Bedingungen formuliert um die Anfangsrandwertprobleme zu lösen:\n",
    "\n",
    "- Kinematische Bedingungen\n",
    "- Materialmodelle"
   ]
  },
  {
   "cell_type": "markdown",
   "id": "fb0ef471",
   "metadata": {
    "editable": true,
    "slideshow": {
     "slide_type": "slide"
    }
   },
   "source": [
    "## Kinematik\n",
    "\n",
    "Der Kinemtischen Bedingungen haben besonders im Bereich der Strukturmechanik und der Lösung der Impulsbilanz eine hervorgehobene Bedeutung. So ist zum Beispiel die Forderung vom ebenbleiben des Querschnitts in der Bernoulli Balkentheorie eine starke kinematische Restriktion, welche auf die bekannte Differentialgleichung der Durchbiegung $w(x)$ führt. \n",
    "Im Rahmen der linearen Kontinuumsmechanik wird die Dehnung $\\bm{\\epsilon}$ als symmetrischer Anteil des Verschiebungsgradienten $\\grad{\\bm{u}}$ verstanden:\n",
    "\n",
    "```{math}\n",
    ":label: linearStrain\n",
    "\\bm{\\epsilon} = \\frac{1}{2} \\left(\\grad{\\bm{u}}\\T + \\grad{\\bm{u}} \\right) \\; .\n",
    "```\n",
    "\n",
    "Dieses Dehnungsmaß wird oft auch als Ingenieurdehnung bezeichnet und sollte nur in einem Dehnungsbereich < 10% angewendet werden. Zudem ist hervorzuheben, dass Starrkörpertranslationen keine Ingenieurdehnung hervorrufen, Starrkörperrotationen hingegen sehrwohl. Aus diesem Grunde ist darauf zu achten, dass beim Auftreten größerer Rotationen stehts eine nichtlineare Theorie (2.Ordnung oder allgemein nichtlinear) verwendet wird.\n",
    "\n",
    "Aufgrund der Symmetrie des Dehnungstensors erhalten wir **6** zusätzliche Bedingungen zur Lösung der Anfangsrandwertproblems der Impulsbilanz."
   ]
  },
  {
   "cell_type": "markdown",
   "id": "e8310170",
   "metadata": {
    "editable": true,
    "slideshow": {
     "slide_type": "slide"
    }
   },
   "source": [
    "## Materialmodell\n",
    "\n",
    "Was zur Schließung der mathematischen Problemstellung jetzt noch fehlt ist eine Relation zwischen der primären Feldgröße und ihrer zugeordneten Flussgröße (sekundäre Größe). Die oben beschriebenen Bilanzgleichungen sind physikalische Prinzipien die unabhängig vom Werkstoff Gültigkeit besitzen. Die spezifischen Werkstoffeigenschaften werden über Materialmodelle, sogenannte konstitutive Modelle, in das Anfangsrandwertproblem eingebracht. Die konstitutive Materialtheorie ist eine Wissenschaft für sich und soll in dieser Vorlesung nicht weiter behandelt werden. In der Strukturmechanik können Materialien entsprechend ihrer Eigenschaften eingeteilt werden in:\n",
    "\n",
    "```{figure} ./images/Materialklassen.png\n",
    "---\n",
    "height: 500px\n",
    "name: materialklassen\n",
    "---\n",
    "Klassifizierung von Materialmodellen anhand ihrer Systemantwort. Abbildung nach {cite}`haupt2013continuum`\n",
    "```"
   ]
  },
  {
   "cell_type": "markdown",
   "id": "2aef9940",
   "metadata": {
    "editable": true,
    "slideshow": {
     "slide_type": "slide"
    }
   },
   "source": [
    "### Wärmeleitung\n",
    "\n",
    "Bei der Berechnung der Wärmeleitungsgleichung wird oftmals **Fourier**sche Wärmeleitung zugrunde gelegt. Diese basiert auf der Annahme, dass der Wärmestrom proportional zum negativen Temperaturgradienten ist:\n",
    "\n",
    "```{math}\n",
    ":label: fourier\n",
    "\\bm{q} = - \\bm{k}\\T  \\grad{\\theta} \\, .\n",
    "```\n",
    "Hierbei ist $\\bm{k}$ die Konduktivitätstensor, welche für isotrope Materialien wie folgt aussieht:\n",
    "```{math}\n",
    ":label: konduktivitaetsmatrixIsotrop\n",
    " \\bm{k} = k \\begin{bmatrix} 1 & 0 & 0 \\\\ 0 & 1 & 0 \\\\ 0 & 0 & 1\\end{bmatrix}  \\, ,\n",
    "```\n",
    "mit der Wärmeleitfähigkeit $k$ in $\\frac{\\text{W}}{\\text{m}\\cdot\\text{K}}$. Der Wärmestromvektor hat damit die Einheit $\\frac{\\text{W}}{\\text{m}^2}$.\n",
    "\n",
    "```{admonition} Zusätzliche Gleichungen\n",
    ":class: warning\n",
    "\n",
    "Aus Gleichung {eq}`fourier` erhalten wir **3** zusätzliche Gleichungen. Wir haben jetzt genausoviele Gleichungen wie Unbekannte. \n",
    "\n",
    "```\n",
    "\n",
    "```{admonition} Materialsymmetrie (Auswahl)\n",
    ":class: note\n",
    "- isotrop - gleiche Eigenschaften in alle Raumrichtungen\n",
    "- transversal isotrop - Unterschiedliche Eigenschaften entlang einer Faser (Symmetrieachse) und der zu dieser Faser senkrecht stehenden Ebene\n",
    "- orthotrop - drei paarweise senkrecht zueinander stehende Symmetrieachsen\n",
    "```"
   ]
  },
  {
   "cell_type": "markdown",
   "id": "bbc4fa28",
   "metadata": {
    "editable": true,
    "slideshow": {
     "slide_type": "slide"
    }
   },
   "source": [
    "### Durchströmung\n",
    "\n",
    "Bei der Berechnung der Fluidgeschwindigkeit in Sickerströmungen wird oftmals das **Darcy**sche hydraulische Strömungsgesetz angewendet. Dies ist analog zur Wärmeleitung definiert als proportional zum negativer Druckgradienten:\n",
    "\n",
    "```{math}\n",
    ":label: darcy\n",
    "\\bm{v} = - \\bm{k}_{\\varepsilon}\\T  \\grad{p} \\, .\n",
    "```\n",
    "Hierbei ist $\\bm{k}_{\\varepsilon}$ die hydraulische Konduktivität. Für isotrope Materialien gilt:\n",
    "\n",
    "```{math}\n",
    " \\bm{k}_{\\varepsilon} = \\frac{k_{\\varepsilon}}{\\mu} \\begin{bmatrix} 1 & 0 & 0 \\\\ 0 & 1 & 0 \\\\ 0 & 0 & 1\\end{bmatrix}  \\, ,\n",
    "```\n",
    "mit der hydraulischen Permeabilität $k_{\\varepsilon}$ in $\\text{m}^2$ und der dynamischen Viskosität $\\mu$ in $\\text{Pa}\\cdot \\text{s}$. \n",
    "\n",
    "```{admonition} Zusätzliche Gleichungen\n",
    ":class: warning\n",
    "\n",
    "Aus Gleichung {eq}`darcy` erhalten wir **3** zusätzliche Gleichungen. Wir haben jetzt genausoviele Gleichungen wie Unbekannte. \n",
    "\n",
    "```"
   ]
  },
  {
   "cell_type": "markdown",
   "id": "a4991ae7",
   "metadata": {
    "editable": true,
    "slideshow": {
     "slide_type": "slide"
    }
   },
   "source": [
    "### Lineare Elastizität\n",
    "\n",
    "In {numref}`materialklassen` sind verschiedene Klassen von Festkörpermaterialien dargestellt. In dieser Vorlesung behandeln wir lediglich eine Unterklasse der ratenunabhängigen Materialien ohne Hystere. Die Lineare Elastizität ist gekennzeichnet durch einen linearen Zusammenhang zwischen Spannung $\\bm{\\sigma}$ und Dehnungen $\\bm{\\epsilon}$. In tensorieller Notation stellt sich das verallgemeinerte Hook'sche Gesetz wie folgt dar:\n",
    "\n",
    "```{math}\n",
    ":label: generalHook\n",
    "\\sigma_{ij} = \\mathbb{C}_{ijkl} \\epsilon_{kl} \\;\n",
    "```\n",
    "\n",
    "wobei von der Einsteinschen Summenkonvention gebrauch gemacht wurde. In der Strukturmechanik ist es jedoch unüblich mit Tensoren 4. Stufe explizit zu rechnen. Es werden Symmetrieeigenschaften der Tensoren $\\sigma_{ij}=\\sigma_{ji}$, $\\epsilon_{ij}=\\epsilon_{ji}$ und $\\mathbb{C}_{ijkl}=\\mathbb{C}_{klij}$ ausgenutzt um Tensorprodukte wie z.B. in Gleichung {eq}`generalHook` in Matrix-Vektor-Operationen zu überführen. Dies ist vor allem für die numerische Implementierung von großem Vorteil."
   ]
  },
  {
   "cell_type": "markdown",
   "id": "b21f71f1",
   "metadata": {
    "editable": true,
    "slideshow": {
     "slide_type": "slide"
    }
   },
   "source": [
    "```{math}\n",
    ":label: generalHook2\n",
    "\\begin{bmatrix} \n",
    "\\sigma_{11} \\\\\n",
    "\\sigma_{22} \\\\\n",
    "\\sigma_{33} \\\\\n",
    "\\sigma_{12} \\\\\n",
    "\\sigma_{23} \\\\\n",
    "\\sigma_{13} \n",
    "\\end{bmatrix} = \\begin{bmatrix}\n",
    "C_{1111} & C_{1122} & C_{1133} & C_{1112} & C_{1123} & C_{1113} \\\\\n",
    "C_{2211} & C_{2222} & C_{2233} & C_{2212} & C_{2223} & C_{2213} \\\\\n",
    "C_{3311} & C_{3322} & C_{3333} & C_{3312} & C_{3323} & C_{3313} \\\\\n",
    "C_{1211} & C_{1222} & C_{1233} & C_{1212} & C_{1223} & C_{1213} \\\\\n",
    "C_{2311} & C_{2322} & C_{2333} & C_{2312} & C_{2323} & C_{2313} \\\\\n",
    "C_{1311} & C_{1322} & C_{1333} & C_{1312} & C_{1323} & C_{1313} \\\\ \n",
    "\\end{bmatrix} \\begin{bmatrix} \\epsilon_{11} \\\\ \\epsilon_{22} \\\\ \\epsilon_{33} \\\\ 2\\epsilon_{12} \\\\ 2\\epsilon_{23} \\\\ 2\\epsilon_{13} \\end{bmatrix}\n",
    "```\n",
    "\n",
    "Für isotrope lineare Elastizität mit dem Materialkonstanten:\n",
    "- $E$ - Elastizitätsmodul in $\\text{MPa}$\n",
    "- $\\nu$ - Querkontraktionszahl in [-]\n",
    "\n",
    "erhält man dann:\n",
    "\n",
    "\n",
    "```{math}\n",
    ":label: generalHook3\n",
    "\\begin{bmatrix} \n",
    "\\sigma_{11} \\\\\n",
    "\\sigma_{22} \\\\\n",
    "\\sigma_{33} \\\\\n",
    "\\sigma_{12} \\\\\n",
    "\\sigma_{23} \\\\\n",
    "\\sigma_{13} \n",
    "\\end{bmatrix} = \\frac{E}{(1+\\nu)(1-2\\nu)}\\begin{bmatrix}\n",
    "1-\\nu & \\nu & \\nu & 0 & 0 & 0 \\\\\n",
    "\\nu & 1-\\nu & \\nu & 0 & 0 & 0 \\\\\n",
    "\\nu & \\nu & 1-\\nu & 0 & 0 & 0 \\\\\n",
    "0 & 0 & 0 & \\frac{1-2\\nu}{2} & 0 & 0 \\\\\n",
    "0 & 0 & 0 & 0 & \\frac{1-2\\nu}{2} & 0 \\\\\n",
    "0 & 0 & 0 & 0 & 0 & \\frac{1-2\\nu}{2} \\\\ \n",
    "\\end{bmatrix} \\begin{bmatrix} \\epsilon_{11} \\\\ \\epsilon_{22} \\\\ \\epsilon_{33} \\\\ 2\\epsilon_{12} \\\\ 2\\epsilon_{23} \\\\ 2\\epsilon_{13} \\end{bmatrix}\n",
    "```"
   ]
  },
  {
   "cell_type": "markdown",
   "id": "558b21d0",
   "metadata": {
    "editable": true,
    "slideshow": {
     "slide_type": "slide"
    }
   },
   "source": [
    "Für die inverse Beziehung $\\bm{\\epsilon} = \\bm{C}^{-1} \\bm{\\sigma}$ mit der Nachgiebiegkeitsmatrix $\\bm{C}^{-1}$ erhält man:\n",
    "```{math}\n",
    ":label: generalHook4\n",
    "\\begin{bmatrix} \n",
    "\\epsilon_{11} \\\\\n",
    "\\epsilon_{22} \\\\\n",
    "\\epsilon_{33} \\\\\n",
    "2\\epsilon_{12} \\\\\n",
    "2\\epsilon_{23} \\\\\n",
    "2\\epsilon_{13} \n",
    "\\end{bmatrix} =\\begin{bmatrix}\n",
    "\\frac{1}{E} & \\frac{-\\nu}{E} & \\frac{-\\nu}{E} & 0 & 0 & 0 \\\\\n",
    "\\frac{-\\nu}{E} & \\frac{1}{E} & \\frac{-\\nu}{E} & 0 & 0 & 0 \\\\\n",
    "\\frac{-\\nu}{E} & \\frac{-\\nu}{E} & \\frac{1}{E} & 0 & 0 & 0 \\\\\n",
    "0 & 0 & 0 & \\frac{1}{G} & 0 & 0 \\\\\n",
    "0 & 0 & 0 & 0 & \\frac{1}{G} & 0 \\\\\n",
    "0 & 0 & 0 & 0 & 0 & \\frac{1}{G} \\\\ \n",
    "\\end{bmatrix} \\begin{bmatrix} \\sigma_{11} \\\\ \\sigma_{22} \\\\ \\sigma_{33} \\\\ \\sigma_{12} \\\\ \\sigma_{23} \\\\ \\sigma_{13} \\end{bmatrix}\n",
    "```\n",
    "\n",
    "wobei $G=\\frac{E}{2(1+\\nu)}$ den Schubmodul in $\\text{MPa}$ darstellt.\n",
    "\n",
    "```{admonition} Zusätzliche Gleichungen\n",
    ":class: warning\n",
    "\n",
    "Aus Gleichung {eq}`generalHook3` und {eq}`generalHook4` erhalten wir **6** zusätzliche Gleichungen. Wir haben jetzt genausoviele Gleichungen wie Unbekannte. \n",
    "\n",
    "```"
   ]
  },
  {
   "cell_type": "markdown",
   "id": "3ad03ea3",
   "metadata": {
    "editable": true,
    "slideshow": {
     "slide_type": "subslide"
    }
   },
   "source": [
    "```{admonition} Einsteinsche Summenkonvention\n",
    ":class: note\n",
    "Die Einsteinsche Summenkonvention ist eine Notationsvereinbarung, die in der Tensorrechnung verwendet wird, um Ausdrücke zu vereinfachen. Wenn ein Index in einem mathematischen Ausdruck zweimal vorkommt, wird implizit über diesen Index summiert:\n",
    "\n",
    "$$\n",
    "c_i = \\sum_{j=1}^{n} a_{ij} b_j \\qquad \\rightarrow \\qquad  c_i=a_{ij} b_j\n",
    "$$\n",
    "\n",
    "```"
   ]
  },
  {
   "cell_type": "markdown",
   "id": "fb0c538a",
   "metadata": {
    "editable": true,
    "slideshow": {
     "slide_type": "subslide"
    }
   },
   "source": [
    "```{admonition} Kelvin Notation vs. Voigt Notation\n",
    ":class: note\n",
    "\n",
    "Die Kelvin Notation und die Voigt Notation sind zwei verschiedene Methoden um tensorielle Größen in Matrix- und Vektorschreibweise zu überführen. In den meisten kommerziellen FEM Programmen ist die Voigt Notation vorzufinden, wobei neuere FE-Codes durchaus die Vorteile der Kelvin Notation ausnutzen {cite}`nagel2016advantages`. Allgemein kann gesagt werden, dass die Voigt Notation näher an der Ingenieurmechanik ist, da die Scheranteile $\\epsilon_{ij} \\quad \\forall i\\neq j$ der Dehnung doppelt eingehen und wir somit die Gleitungen $\\gamma_{ij}\\quad \\forall i\\neq j$ erhalten. Die Kelvin Notation hat den Vorteil, dass mit ihr weiterhin alle Tensorprodukte einfach gebildet werden können ohne das über den Vorfaktor der Komponenten nachgedacht werden muss. Im aktuellen Kurs wird die **Voigt**-Notation zugrunde gelegt. \n",
    "\n",
    "\n",
    "|                    |   Voigt Notation    |\n",
    "|--------------------|---------------------|\n",
    "|$\\sigma_{ij}$       | $\\bm{\\sigma}= \\begin{bmatrix} \\sigma_{11} & \\sigma_{22} & \\sigma_{33} & \\sigma_{12} & \\sigma_{23} & \\sigma_{13} \\end{bmatrix}\\T $ |\n",
    "|$\\epsilon_{ij}$       | $\\bm{\\epsilon}= \\begin{bmatrix} \\epsilon_{11} & \\epsilon_{22} & \\epsilon_{33} & 2\\epsilon_{12} & 2\\epsilon_{23} & 2\\epsilon_{13} \\end{bmatrix}\\T $ |\n",
    "| $\\sigma_{ij}=\\mathbb{C}_{ijkl}\\epsilon_{kl}$| $\\bm{\\sigma} = \\bm{C} \\bm{\\epsilon} $|\n",
    "| $\\mathcal{E}=\\sigma_{ij}\\epsilon_{ij}$| $ \\mathcal{E} = \\bm{\\sigma}\\T\\bm{\\epsilon}$|\n",
    "\n",
    "$$\n",
    "\\mathbb{C}_{ijkl} \\quad \\rightarrow \\quad \\bm{C}=\\begin{bmatrix}\n",
    "C_{1111} & C_{1122} & C_{1133} & C_{1112} & C_{1123} & C_{1113} \\\\\n",
    "C_{2211} & C_{2222} & C_{2233} & C_{2212} & C_{2223} & C_{2213} \\\\\n",
    "C_{3311} & C_{3322} & C_{3333} & C_{3312} & C_{3323} & C_{3313} \\\\\n",
    "C_{1211} & C_{1222} & C_{1233} & C_{1212} & C_{1223} & C_{1213} \\\\\n",
    "C_{2311} & C_{2322} & C_{2333} & C_{2312} & C_{2323} & C_{2313} \\\\\n",
    "C_{1311} & C_{1322} & C_{1333} & C_{1312} & C_{1323} & C_{1313} \\\\ \n",
    "\\end{bmatrix} \n",
    "$$\n",
    "\n",
    "|                    |    Kelvin Notation  |\n",
    "|--------------------|---------------------|\n",
    "|$\\sigma_{ij}$        | $\\bm{\\sigma}= \\begin{bmatrix} \\sigma_{11} & \\sigma_{22} & \\sigma_{33} & \\sqrt{2}\\sigma_{12} & \\sqrt{2}\\sigma_{23} & \\sqrt{2}\\sigma_{13} \\end{bmatrix}\\T $ |\n",
    "|$\\epsilon_{ij}$        | $\\bm{\\epsilon}= \\begin{bmatrix} \\epsilon_{11} & \\epsilon_{22} & \\epsilon_{33} & \\sqrt{2}\\epsilon_{12} & \\sqrt{2}\\epsilon_{23} & \\sqrt{2}\\epsilon_{13} \\end{bmatrix}\\T $ |\n",
    "| $\\sigma_{ij}=\\mathbb{C}_{ijkl}\\epsilon_{kl}$| $\\bm{\\sigma} = \\bm{C} \\bm{\\epsilon}$ |\n",
    "| $\\mathcal{E}=\\sigma_{ij}\\epsilon_{ij}$| $ \\mathcal{E} = \\bm{\\sigma}\\T\\bm{\\epsilon}$|\n",
    "\n",
    "$$\n",
    "\\mathbb{C}_{ijkl} \\quad \\rightarrow \\quad \\bm{C}=\\begin{bmatrix}\n",
    "C_{1111} & C_{1122} & C_{1133} & \\sqrt{2}C_{1112} & \\sqrt{2}C_{1123} & \\sqrt{2}C_{1113} \\\\\n",
    "C_{2211} & C_{2222} & C_{2233} & \\sqrt{2}C_{2212} & \\sqrt{2}C_{2223} & \\sqrt{2}C_{2213} \\\\\n",
    "C_{3311} & C_{3322} & C_{3333} & \\sqrt{2}C_{3312} & \\sqrt{2}C_{3323} & \\sqrt{2}C_{3313} \\\\\n",
    "\\sqrt{2}C_{1211} & \\sqrt{2}C_{1222} & \\sqrt{2}C_{1233} & 2C_{1212} & 2C_{1223} & 2C_{1213} \\\\\n",
    "\\sqrt{2}C_{2311} & \\sqrt{2}C_{2322} & \\sqrt{2}C_{2333} & 2C_{2312} & 2C_{2323} & 2C_{2313} \\\\\n",
    "\\sqrt{2}C_{1311} & \\sqrt{2}C_{1322} & \\sqrt{2}C_{1333} & 2C_{1312} & 2C_{1323} & 2C_{1313} \\\\ \n",
    "\\end{bmatrix} \n",
    "$$\n",
    "\n",
    "```"
   ]
  },
  {
   "cell_type": "markdown",
   "id": "4de47d70",
   "metadata": {
    "editable": true,
    "slideshow": {
     "slide_type": "slide"
    }
   },
   "source": [
    "#### Ebener Verzerrungszustand\n",
    "\n",
    "```{figure} ./images/EVZ.png\n",
    "---\n",
    "height: 300px\n",
    "name: evz\n",
    "---\n",
    "Beispiel für das Auftreten eines ebenen Verzerrungszustandes {cite}`chaves2013notes`\n",
    "```\n",
    "Betrachten wir ein Strukturelement mit prismatischen Merkmalen, bei dem die Dimension in Richtung der prismatischen Achse deutlich größer ist als die anderen Dimensionen. Die aufgebrachten Lasten wirken senkrecht zur prismatischen Achse ({numref}`evz`). Unter diesen Bedingungen sind die Dehnungskomponenten $\\e_{13},\\, \\e_{23}, \\, \\e_{33}$ gleich null. Dieser Zustand wird als ebener Verzerrungszustand bezeichnet. Beispiele hierfür sind Stützmauern, unter Druck stehende Zylinder, Dämme , Tunnel und Flachgründungen.\n",
    "\n",
    "Es muss betont werden, dass die Variablen (Last, Querschnitt, Material) entlang der prismatischen Achse konstant sein müssen, um einen ebenen Verzerrungszustand zu betrachten. Andernfalls können erhebliche Fehler auftreten."
   ]
  },
  {
   "cell_type": "markdown",
   "id": "ae9fbc83",
   "metadata": {
    "editable": true,
    "slideshow": {
     "slide_type": "slide"
    }
   },
   "source": [
    "```{admonition} Prismatische Merkmale\n",
    ":class: note\n",
    "- Konstanter Querschnitt entlang der Längsachse\n",
    "- Längliche Form \n",
    "- Geradlinige Achse\n",
    "\n",
    "**Beispiele:** Balken, Säulen, Rohre\n",
    "```"
   ]
  },
  {
   "cell_type": "markdown",
   "id": "0ffd37cb",
   "metadata": {
    "editable": true,
    "slideshow": {
     "slide_type": "slide"
    }
   },
   "source": [
    "Um die konstitutive Beziehung $\\sb(\\eb)$ zu erhalten starten wir vom generalisierten Hook'schen Gesetz {eq}`generalHook3` indem wir alle Spalten mit korrespondierenden 0-Dehnungen eliminieren:\n",
    "\n",
    "```{math}\n",
    ":label: evz1\n",
    "\\begin{bmatrix} \n",
    "\\sigma_{11} \\\\\n",
    "\\sigma_{22} \\\\\n",
    "\\sigma_{33} \\\\\n",
    "\\sigma_{12} \\\\\n",
    "\\sigma_{23} \\\\\n",
    "\\sigma_{13} \n",
    "\\end{bmatrix} = \\frac{E}{(1+\\nu)(1-2\\nu)}\\begin{bmatrix}\n",
    "1-\\nu & \\nu & \\cancel{\\nu} & 0 & \\cancel{0} & \\cancel{0} \\\\\n",
    "\\nu & 1-\\nu & \\cancel{\\nu} & 0 & \\cancel{0} & \\cancel{0} \\\\\n",
    "\\nu & \\nu & \\cancel{1-\\nu} & 0 & \\cancel{0} & \\cancel{0} \\\\\n",
    "0 & 0 & \\cancel{0} & \\frac{1-2\\nu}{2} & \\cancel{0} & \\cancel{0} \\\\\n",
    "0 & 0 & \\cancel{0} & 0 & \\cancel{\\frac{1-2\\nu}{2}} & \\cancel{0} \\\\\n",
    "0 & 0 & \\cancel{0} & 0 & \\cancel{0} & \\cancel{\\frac{1-2\\nu}{2}} \\\\ \n",
    "\\end{bmatrix} \\begin{bmatrix} \\epsilon_{11} \\\\ \\epsilon_{22} \\\\ \\cancel{\\epsilon_{33}} \\\\ 2\\epsilon_{12} \\\\ \\cancel{2\\epsilon_{23}} \\\\ \\cancel{2\\epsilon_{13}} \\end{bmatrix}\n",
    "```\n",
    "\n",
    "Wir sehen sofort, dass die Komponenten $\\s_{23},\\, \\s_{13}$ verschwinden. Die Spannungskomponente entlang der prismatischen Achse $\\s_{33}$ hingegen berechnet sich zu:\n",
    "\n",
    "```{math}\n",
    "\\s_{33} = \\frac{E \\nu}{(1+\\nu)(1-2\\nu)} \\left(\\e_{11} + \\e_{22} \\right)\n",
    "```"
   ]
  },
  {
   "cell_type": "markdown",
   "id": "9f039b16",
   "metadata": {
    "editable": true,
    "slideshow": {
     "slide_type": "slide"
    }
   },
   "source": [
    "Arrangiert man die verbleibenden Einträge, so erhält man für $\\bm{C}\\rs{EVZ}$:\n",
    "```{math}\n",
    ":label: evz2\n",
    " \\begin{bmatrix} \n",
    "\\s_{11} \\\\\n",
    "\\s_{22} \\\\\n",
    "\\s_{12} \n",
    "\\end{bmatrix}= \\underbrace{\\frac{E }{(1+\\nu)(1-2\\nu)} \\begin{bmatrix}\n",
    "1-\\nu & \\nu & 0 \\\\\n",
    "\\nu & 1-\\nu & 0 \\\\\n",
    "0 & 0 & \\frac{1-2\\nu}{2}\n",
    "\\end{bmatrix}}_{\\bm{C}\\rs{EVZ}}  \\begin{bmatrix} \n",
    "\\e_{11} \\\\\n",
    "\\e_{22} \\\\\n",
    "\\e_{12} \n",
    "\\end{bmatrix}\n",
    "```\n",
    "\n",
    "Für die Nachgiebiegkeit $\\bm{C}\\rs{EVZ}^{-1}$ erhält man die inverse Beziehung:\n",
    "```{math}\n",
    ":label: evz3\n",
    " \\begin{bmatrix} \n",
    "\\e_{11} \\\\\n",
    "\\e_{22} \\\\\n",
    "\\e_{12} \n",
    "\\end{bmatrix}= \\underbrace{\\frac{1+\\nu }{E} \\begin{bmatrix}\n",
    "1-\\nu & -\\nu & 0 \\\\\n",
    "-\\nu & 1-\\nu & 0 \\\\\n",
    "0 & 0 & 2\n",
    "\\end{bmatrix}}_{\\bm{C}\\rs{EVZ}^{-1}}  \\begin{bmatrix} \n",
    "\\s_{11} \\\\\n",
    "\\s_{22} \\\\\n",
    "\\s_{12} \n",
    "\\end{bmatrix}\n",
    "```"
   ]
  },
  {
   "cell_type": "markdown",
   "id": "349b4f84",
   "metadata": {
    "editable": true,
    "slideshow": {
     "slide_type": "slide"
    }
   },
   "source": [
    "#### Ebener Spannungszustand\n",
    "\n",
    "```{figure} ./images/CarCrash.jpg\n",
    "---\n",
    "height: 500px\n",
    "name: carcrash\n",
    "---\n",
    "FEM Crash Simulation eines Pickup-Trucks gegen eine starre Wand [Quelle](https://enteknograte.com/wp-content/uploads/2022/06/truck-crash-Car-vehicle-Finite-Element-Simulation-Crash-Test-MSC-dytran-Crashworthiness-Ls-Dyna-Abaqus-PAM-CRASH.jpg)\n",
    "```\n",
    "\n",
    "Der ebene Spannungszustand tritt überall dort auf wo Flächenelemente vor allem in ihrer Ebene belastet werden und die Flächenabmessungen deutlich größer sind als die dazugehörige Dicke. Dies ist zum Beispiel bei Karosserieblechen wie in {numref}`carcrash` der Fall. \n",
    "\n",
    "```{figure} ./images/Shellformulation.png\n",
    "---\n",
    "height: 300px\n",
    "name: shellformulation\n",
    "---\n",
    "FEM Diskretisierung von Schalenelementen als degenerierte Volumenelemente (links) oder über eine Mittelflächendarstellung (rechts). {cite}`wriggers2008nonlinear`\n",
    "```\n",
    "\n",
    "In Abbildung {numref}`shellformulation` auf der rechten Seite ist eine Disketisierung für den ebenen Spannungszustand mit Mittelflächenelementen zu sehen."
   ]
  },
  {
   "cell_type": "markdown",
   "id": "624dbd98",
   "metadata": {
    "editable": true,
    "slideshow": {
     "slide_type": "slide"
    }
   },
   "source": [
    "Startpunkt für die konstitutive Beziehung ist die Gleichung {eq}`generalHook4`. Zunächst streichen wir alle Spalten welche den 0-Spannungen zugeordnet werden können:\n",
    "```{math}\n",
    ":label: generalHookESZ1\n",
    "\\begin{bmatrix} \n",
    "\\epsilon_{11} \\\\\n",
    "\\epsilon_{22} \\\\\n",
    "\\epsilon_{33} \\\\\n",
    "2\\epsilon_{12} \\\\\n",
    "2\\epsilon_{23} \\\\\n",
    "2\\epsilon_{13} \n",
    "\\end{bmatrix} = \\begin{bmatrix}\n",
    "\\frac{1}{E} & \\frac{-\\nu}{E} & \\cancel{\\frac{-\\nu}{E}} & 0 & \\cancel{0} & \\cancel{0} \\\\\n",
    "\\frac{-\\nu}{E} & \\frac{1}{E} & \\cancel{\\frac{-\\nu}{E}} & 0 & \\cancel{0} & \\cancel{0} \\\\\n",
    "{\\frac{-\\nu}{E}} & {\\frac{-\\nu}{E}} & \\cancel{\\frac{1}{E}} & {0} & \\cancel{0} & \\cancel{0} \\\\\n",
    "0 & 0 & \\cancel{0} & \\frac{1}{G} & 0 & 0 \\\\\n",
    "{0} & {0} & \\cancel{0} & {0} & \\cancel{\\frac{1}{G}} & \\cancel{0} \\\\\n",
    "{0} & {0} & \\cancel{0} & {0} & \\cancel{0} & \\cancel{\\frac{1}{G}} \\\\ \n",
    "\\end{bmatrix} \\begin{bmatrix} \\sigma_{11} \\\\ \\sigma_{22} \\\\ \\cancel{\\sigma_{33}} \\\\ \\sigma_{12} \\\\ \\cancel{\\sigma_{23}} \\\\ \\cancel{\\sigma_{13}} \\end{bmatrix}\n",
    "```\n",
    "\n",
    "Hier fällt auf, dass das resultierende System nicht mehr quadratisch ist, da die Dehnung in Dickenrichtung $\\epsilon_{33}$ ungleich null ist:\n",
    "\n",
    "```{math}\n",
    ":label: generalHookESZ2\n",
    "\\begin{bmatrix} \n",
    "\\epsilon_{11} \\\\\n",
    "\\epsilon_{22} \\\\\n",
    "\\epsilon_{33} \\\\\n",
    "2\\epsilon_{12} \\\\\n",
    "\\end{bmatrix} = \\begin{bmatrix}\n",
    "\\frac{1}{E} & \\frac{-\\nu}{E}  & 0  \\\\\n",
    "\\frac{-\\nu}{E} & \\frac{1}{E}  & 0  \\\\\n",
    "{\\frac{-\\nu}{E}} & {\\frac{-\\nu}{E}} & {0} \\\\\n",
    "0 & 0 & \\frac{1}{G}  \\\\\n",
    "\\end{bmatrix} \\begin{bmatrix} \\sigma_{11} \\\\ \\sigma_{22} \\\\ \\sigma_{12} \\end{bmatrix} \\; .\n",
    "```\n",
    "\n",
    "Dieses System hat eine Gleichung zu viel. Zweckmäßig vernachlässigt man die Gleichung für die Dehnung in Dickenrichtung (diese Dehnung berechnet man in einer Nachlaufrechnung). Somit lautet die Nachgiebigkeitsmatrix $\\bm{C}^{-1}\\rs{ESZ}$ und die Materielle Steifigkeitsmatrix $\\bm{C}\\rs{ESZ}$ für den ebenen Spannungszustand:\n",
    "\n",
    "```{math}\n",
    ":label: generalHookESZ3\n",
    "\\bm{C}^{-1} = \\frac{1}{E} \\begin{bmatrix}\n",
    "1 & -\\nu & 0  \\\\\n",
    "-\\nu & 1  & 0  \\\\\n",
    "0 & 0 & 2(1+\\nu)  \\\\\n",
    "\\end{bmatrix}  \\qquad \n",
    "\\bm{C} = \\frac{E}{(1-\\nu^2)}\\begin{bmatrix}\n",
    "1 & \\nu  & 0  \\\\\n",
    "\\nu & 1  & 0  \\\\\n",
    "0 & 0 & \\frac{1-\\nu}{2}  \\\\\n",
    "\\end{bmatrix}\n",
    "```"
   ]
  },
  {
   "cell_type": "markdown",
   "id": "24e88d29",
   "metadata": {
    "editable": true,
    "slideshow": {
     "slide_type": "slide"
    }
   },
   "source": [
    "#### Rotationssymmetrie\n",
    "\n",
    "```{figure} ./images/Rotsym.png\n",
    "---\n",
    "height: 300px\n",
    "name: rotsym\n",
    "---\n",
    "Rotationssymmetrischer Körper im zylinderkoordinatensystem $\\{r,z,\\theta\\}$. Nach {cite}`chaves2013notes`\n",
    "```\n",
    "\n",
    "Die Dehnungen für rotationssymmetrische Problemstellungen werden berechnet zu:\n",
    "\n",
    "```{math}\n",
    ":label: rotsymstrain\n",
    "\\begin{bmatrix}\n",
    "\\e_{r} \\\\\n",
    "\\e_z \\\\\n",
    "\\e_{\\theta} \\\\\n",
    "\\gamma_{rz}\n",
    "\\end{bmatrix} = \\begin{bmatrix}\n",
    "\\Pd{u}{r} \\\\\n",
    "\\Pd{v}{z} \\\\\n",
    "\\frac{u}{r} \\\\\n",
    "\\Pd{u}{z} + \\Pd{v}{r}\n",
    "\\end{bmatrix} \n",
    "```\n",
    "\n",
    "Das generalisierte Hook'sche Gesetz lautet:\n",
    "\n",
    "```{math}\n",
    ":label: generalHookRotsym\n",
    "\\begin{bmatrix} \n",
    "\\sigma_{rr} \\\\\n",
    "\\sigma_{zz} \\\\\n",
    "\\sigma_{\\theta} \\\\\n",
    "\\sigma_{rz} \\\\\n",
    "\\end{bmatrix} = \\frac{E}{(1+\\nu)(1-2\\nu)}\\begin{bmatrix}\n",
    "1-\\nu & \\nu & \\nu & 0  \\\\\n",
    "\\nu & 1-\\nu & \\nu & 0  \\\\\n",
    "\\nu & \\nu & 1-\\nu & 0  \\\\\n",
    "0 & 0 & 0 & \\frac{1-2\\nu}{2} \\\\\n",
    "\\end{bmatrix} \\begin{bmatrix} \\epsilon_{r} \\\\ \\epsilon_{\\theta} \\\\ \\epsilon_{z} \\\\ 2\\epsilon_{rz}  \\end{bmatrix}\n",
    "```\n",
    "\n",
    "```{admonition} Berechnung Dehung $\\e_{\\theta}$\n",
    ":class: note\n",
    "\n",
    "Die Dehnung in Umfangsrichtung kann bestimmt werden als Längenänderung des Umfangs infolge einer radialen Verschiebung $u$:\n",
    "\n",
    "$\n",
    "\\e_{\\theta} = \\frac{2 \\pi (r+u) -2\\pi r}{2\\pi r} = \\frac{u}{r}\n",
    "$\n",
    "\n",
    "```\n",
    "\n",
    "## Zusammenfassung\n",
    "\n",
    "Um ein valides mechanisches Modell zu erlangen benötigt man:\n",
    "\n",
    "  1. Die beschreibende partielle Differentialgleichung (physikalische Erhaltungssätze)\n",
    "  2. Die Kinematischen Beziehungen (Verbindung von primärer Größe zur abgeleiten Größe)\n",
    "  3. Materialmodell (Verbindung von sekundärer Größe zur kinematischen Größe)\n",
    "\n",
    "Eindeutig lösbar wird das Modell zudem erst, wenn die Randbedingungen entsprechend vorgegeben wurden."
   ]
  },
  {
   "cell_type": "code",
   "execution_count": null,
   "id": "ec59a919",
   "metadata": {},
   "outputs": [],
   "source": []
  }
 ],
 "metadata": {
  "jupytext": {
   "text_representation": {
    "extension": ".md",
    "format_name": "myst",
    "format_version": 0.13,
    "jupytext_version": "1.16.7"
   }
  },
  "kernelspec": {
   "display_name": "Python 3 (ipykernel)",
   "language": "python",
   "name": "python3"
  },
  "language_info": {
   "codemirror_mode": {
    "name": "ipython",
    "version": 3
   },
   "file_extension": ".py",
   "mimetype": "text/x-python",
   "name": "python",
   "nbconvert_exporter": "python",
   "pygments_lexer": "ipython3",
   "version": "3.10.16"
  },
  "source_map": [
   14,
   76,
   97,
   116,
   160,
   181,
   206,
   227,
   252,
   273,
   290,
   306,
   320,
   352,
   376,
   389,
   436,
   467,
   479,
   525,
   540,
   551,
   580,
   618,
   642,
   697,
   764
  ]
 },
 "nbformat": 4,
 "nbformat_minor": 5
}