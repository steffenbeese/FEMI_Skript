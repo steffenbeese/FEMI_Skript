{
 "cells": [
  {
   "cell_type": "markdown",
   "id": "b84fc7b9",
   "metadata": {},
   "source": [
    "# Die Finite Elemente Methode\n",
    "\n",
    "In den nachfolgenden Abschnitten werden die Grundzüge der Finiten Elemente Methode eingeführt. Bei dieser Einführung handelt es sich um eine Ingenieurwissenschaftliche Darstellung. Auf mathematische Anforderungen und Restriktionen wird nur bei Bedarf eingegangen. Für eine mathematisch rigorose Herleitung sei an dieser Stelle auf das Buch von Braess {cite}`braess2013finite` verwiesen."
   ]
  }
 ],
 "metadata": {
  "jupytext": {
   "text_representation": {
    "extension": ".md",
    "format_name": "myst",
    "format_version": 0.13,
    "jupytext_version": "1.16.7"
   }
  },
  "source_map": [
   8
  ]
 },
 "nbformat": 4,
 "nbformat_minor": 5
}