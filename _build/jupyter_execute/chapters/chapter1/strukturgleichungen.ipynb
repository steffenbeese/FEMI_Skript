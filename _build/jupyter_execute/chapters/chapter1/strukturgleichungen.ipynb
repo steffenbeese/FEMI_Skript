{
 "cells": [
  {
   "cell_type": "markdown",
   "id": "662f504c",
   "metadata": {},
   "source": [
    "# Grundgleichungen einfacher Strukturelemente\n",
    "\n",
    "## Differentialgleichung des Stabes\n",
    "\n",
    "## Differentialgleichung des Balkens\n",
    "\n",
    "## Partielle Differentialgleichung der Scheibe"
   ]
  }
 ],
 "metadata": {
  "jupytext": {
   "text_representation": {
    "extension": ".md",
    "format_name": "myst",
    "format_version": 0.13,
    "jupytext_version": "1.16.7"
   }
  },
  "language_info": {
   "codemirror_mode": {
    "name": "ipython",
    "version": 3
   },
   "file_extension": ".py",
   "mimetype": "text/x-python",
   "name": "python",
   "nbconvert_exporter": "python",
   "pygments_lexer": "ipython3",
   "version": "3.10.16"
  },
  "source_map": [
   8
  ]
 },
 "nbformat": 4,
 "nbformat_minor": 5
}