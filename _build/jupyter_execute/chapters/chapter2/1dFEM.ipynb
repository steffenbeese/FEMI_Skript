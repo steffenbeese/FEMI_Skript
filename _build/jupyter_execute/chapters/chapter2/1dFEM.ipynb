{
 "cells": [
  {
   "cell_type": "markdown",
   "id": "7f7b013e",
   "metadata": {
    "editable": true,
    "slideshow": {
     "slide_type": "slide"
    }
   },
   "source": [
    "<!-- $\n",
    "\\newcommand{\\MtdFull}[1]{\\frac{D \\, #1}{D \\, t}}\n",
    "\\newcommand{\\Pd}[2]{\\frac{\\partial #1}{\\partial #2}}\n",
    "\\newcommand{\\d}{\\text{d} }\n",
    "\\newcommand{\\Dd}[2]{\\frac{\\d #1}{\\d #2}}\n",
    "\\newcommand{\\dt}[1]{#1 ^{\\bullet}}\n",
    "\\newcommand{\\dV}{\\; \\text{d}V}\n",
    "\\newcommand{\\dA}{\\; \\text{d}A}\n",
    "\\newcommand{\\dx}{\\; \\text{ d}x}\n",
    "\\newcommand{\\dy}{\\; \\text{ d}y}\n",
    "\\newcommand{\\dz}{\\; \\text{ d}z}\n",
    "\\newcommand{\\dxi}{\\; \\text{ d}\\xi}\n",
    "\\newcommand{\\deta}{\\; \\text{ d}\\eta}\n",
    "\\newcommand{\\dzeta}{\\; \\text{ d}\\zeta}\n",
    "\\newcommand{\\grad}[1]{\\text{grad}\\left(#1\\right)}\n",
    "\\renewcommand{\\div}[1]{\\text{div} \\left(#1\\right)}\n",
    "\\newcommand{\\td}[1]{\\dot{#1}}\n",
    "\\newcommand{\\tdd}[1]{\\ddot{#1}}\n",
    "\\newcommand{\\T}{\\rp{T}}\n",
    "\\newcommand{\\rp}[1]{^{\\text{#1}}}\n",
    "\\newcommand{\\rs}[1]{_{\\text{#1}}}\n",
    "\\renewcommand{\\bm}[1]{\\boldsymbol{#1}}\n",
    "\\newcommand{\\e}{\\epsilon}\n",
    "\\newcommand{\\eb}{\\bm{\\e}}\n",
    "\\newcommand{\\s}{\\sigma}\n",
    "\\newcommand{\\sb}{\\bm{\\sigma}}\n",
    "$ -->"
   ]
  },
  {
   "cell_type": "markdown",
   "id": "63d2340e",
   "metadata": {
    "editable": true,
    "slideshow": {
     "slide_type": "slide"
    }
   },
   "source": [
    "# Die Schwache Form am Beispiel des Stabes\n",
    "\n",
    "```{figure} images/Stab.png\n",
    "---\n",
    "height: 400px\n",
    "name: stab_fig\n",
    "---\n",
    "Stab unter Eigengewicht und externer Kraft.\n",
    "```\n",
    "Auch hier beginnen wir mit der starken Form der Differentialgleichung:\n",
    "```{math}\n",
    ":label: stabdglsimple_2\n",
    " {EA} u^{\\prime \\prime} =  - {n(x)} A \\; ,\n",
    "```\n",
    "\n",
    "```{admonition} Analytische Lösung\n",
    ":class: tip\n",
    "Die analytische Lösung erhalten wir durch zweifache Integration und Einsetzen der Randbedingungen:\n",
    "  \\begin{equation}\n",
    "  u(x) = \\left( \\frac{F}{EA} + \\frac{n \\ell}{E}\\right)\\cdot x - \\frac{1}{2} \\frac{n}{E} x^2 \\; . \n",
    "  \\end{equation}\n",
    "Die Schnittkraft $N$ berechnet sich wie folgt:\n",
    "  \\begin{equation}\n",
    "  N(x) = F + n A (\\ell-x). \n",
    "  \\end{equation}\n",
    "```"
   ]
  },
  {
   "cell_type": "markdown",
   "id": "e6c9374c",
   "metadata": {
    "editable": true,
    "slideshow": {
     "slide_type": "slide"
    }
   },
   "source": [
    "Zur Herleitung der Finite-Elemente-Form multiplizieren wir die starke Form mit der Testfunktion $\\delta u$ und integrieren die Gleichung über das Gebiet:\n",
    "```{math}\n",
    ":label: stabdglsimple_weak\n",
    " \\int_{0}^{\\ell} \\delta u u^{\\prime \\prime} \\dx = \\int_{0}^{\\ell} - \\delta u \\frac{n(x)}{EA} \\dx\\; .\n",
    "```\n",
    "Der Ausdruck auf der linken Seite wird umgeformt zu:\n",
    "```{math}\n",
    ":label: stabdglsimple_product\n",
    " \\int_{0}^{\\ell} \\delta u u^{\\prime \\prime} \\dx = \\int_{0}^{\\ell} \\left(\\delta u u^{\\prime}\\right)^{\\prime} - \\delta u^{\\prime}  u^{\\prime}  \\dx\\; .\n",
    "```"
   ]
  },
  {
   "cell_type": "markdown",
   "id": "8f2dbe9e",
   "metadata": {
    "editable": true,
    "slideshow": {
     "slide_type": "slide"
    }
   },
   "source": [
    "Ersetzen wir nun $\\delta u^{\\prime}=\\delta \\e$ und $u^{\\prime}=\\e$ und setzen die obige Produktregel in Gleichung {eq}`stabdglsimple_weak`, so erhalten wir:\n",
    "```{math}\n",
    ":label: stabdglsimple_weak2\n",
    "\\begin{align}\n",
    " \\int_{0}^{\\ell} \\delta \\e \\cdot E\\e \\, A \\dx & = \\left[\\delta u \\cdot \\sigma A \\right]_0^{\\ell} + \\int_0^{\\ell} \\delta u \\cdot n(x) \\dx\\;  \\\\\n",
    " & = \\left[ \\delta u(\\ell) \\cdot F + \\delta u(0) \\cdot 0\\right]+ \\int_0^{\\ell} \\delta u \\cdot n(x) \\dx\\; .\n",
    " \\end{align}\n",
    "```"
   ]
  },
  {
   "cell_type": "markdown",
   "id": "9c7bff67",
   "metadata": {
    "editable": true,
    "slideshow": {
     "slide_type": "slide"
    }
   },
   "source": [
    "## Das Verfahren von Ritz\n",
    "\n",
    "Als Einführung in die Finite-Element-Methoden beginnen wir mit dem Verfahren, welches von Walter Ritz (1878 - 1909) eingeführt wurde. Dies fußt auf dem Prinzip der virtuellen Arbeit, formuliert als $\\delta U − \\delta W = 0$, wobei $\\delta U$ für die Arbeit der inneren Kräfte und $\\delta W$ für die der äußeren Kräfte steht. Für einen einfachen Stab ergibt sich die obige schwache Form {eq}`stabdglsimple_weak2`.\n",
    "\n",
    "Der nächste Schritt ist die Aufstellung einer Näherungslösung $u_h$ für das Verschiebungsfeld $u$, zum Beispiel durch eine quadratische Funktion:\n",
    "\n",
    "```{math}\n",
    "u_h(x) = a_0 + a_1 x + a_2 x^2,\n",
    "```\n",
    "\n",
    "wobei die Koeffizienten $a_i$ durch Minimierung der virtuellen Arbeit ermittelt werden müssen. Diese Parameter müssen gleichzeitig kinematische Verträglichkeit garantieren und somit die geometrischen Randbedingungen einhalten. Aus $u(0) = 0$ ergibt sich dann $a_0 = 0$. Die benötigte Ableitung des Näherungsansatzes lautet daher:\n",
    "\n",
    "```{math}\n",
    "\\e = u^{\\prime} = a_1 + 2a_2 x.\n",
    "```"
   ]
  },
  {
   "cell_type": "markdown",
   "id": "cf59e787",
   "metadata": {
    "editable": true,
    "slideshow": {
     "slide_type": "slide"
    }
   },
   "source": [
    "Die Variationen dieses Ansatzes werden durch Variieren der Koeffizienten gebildet:\n",
    "\n",
    "```{math}\n",
    "\\delta u(x) = \\delta a_1 x + \\delta a_2 x^2\n",
    "```\n",
    "\n",
    "und\n",
    "\n",
    "```{math}\n",
    "\\delta \\e= \\delta a_1 + 2 \\delta a_2 x.\n",
    "```"
   ]
  },
  {
   "cell_type": "markdown",
   "id": "73a9fc3b",
   "metadata": {
    "editable": true,
    "slideshow": {
     "slide_type": "slide"
    }
   },
   "source": [
    "Eingesetzt in das Prinzip der virtuellen Arbeit führt es zu:\n",
    "\n",
    "```{math}\n",
    "EA \\int_0^{\\ell} (\\delta a_1 + 2 \\delta a_2 x) (a_1 +2 a_2 x) \\dx = F (a_1 \\ell +a_2 \\ell^2) + \\int_0^{\\ell} (\\delta a_1 x + \\delta a_2 x^2) n A \\dx \\; .\n",
    "```\n",
    "\n",
    "Nach Integration und Herausziehen der Variationen resultiert daraus:\n",
    "\n",
    "```{math}\n",
    "\\delta a_1\\left[EA \\ell (a_1 + a_2 \\ell) - \\frac{1}{2} n A \\ell^2 - F \\ell\\right] + \\delta a_2 \\left[EA\\ell^2(a_1 + \\frac{4}{3}a_2\\ell) - \\frac{1}{3}nA\\ell^3 - F\\ell^2\\right] = 0.\n",
    "```\n",
    "\n",
    "Da die Variationen beliebig sind, müssen die in eckigen Klammern stehenden Terme jeweils null sein. Daraus folgt ein lineares Gleichungssystem zur Bestimmung der Koeffizienten, das gelöst wird als:\n",
    "\n",
    "```{math}\n",
    "a_1 = \\frac{F}{EA} + \\frac{n \\ell}{E} \\qquad \\text{und} \\qquad  a_2 = -\\frac{n}{2E}.\n",
    "```"
   ]
  },
  {
   "cell_type": "markdown",
   "id": "ad43784b",
   "metadata": {
    "editable": true,
    "slideshow": {
     "slide_type": "slide"
    }
   },
   "source": [
    "Somit erhalten wir als Näherungslösung für diesen Fall:\n",
    "\n",
    "```{math}\n",
    "u_h(x) = \\left(\\frac{F}{EA} + \\frac{n \\ell}{E}\\right)x - \\left(\\frac{n}{2E}\\right)x^2.\n",
    "```\n",
    "\n",
    "Man kann leicht erkennen, dass mit diesem quadratischen Ansatz die analytische Lösung der Differentialgleichung rekonstruiert werden konnte."
   ]
  },
  {
   "cell_type": "markdown",
   "id": "cd9920f0",
   "metadata": {
    "editable": true,
    "slideshow": {
     "slide_type": "slide"
    }
   },
   "source": [
    "```{admonition} Problem\n",
    ":class: warning\n",
    "Ein Problem beim Ritz'schen Verfahren ist die Wahl der Ansatzfunktion. Diese muss die Randbedingungen erfüllen und die Stetigkeitsanforderungen der schwachen Form. Für komplexere Probleme ist die Wahl der Ansatzfunktion nicht trivial und oft auch nicht möglich.\n",
    "```\n",
    "\n",
    "## Finite Elemente Formulierung für den Stab\n",
    "\n",
    "### Diskretisierung der schwachen Form\n",
    "\n",
    "```{figure} images/Stab_element.png\n",
    "---\n",
    "width: 600px\n",
    "name: stabelement\n",
    "---\n",
    "Stab unter Eigengewicht und externer Kraft mit Stabelementen diskretisiert.\n",
    "```\n",
    "Im vorangegangenen Abschnitt haben wir die Effektivität des Prinzips der virtuellen Arbeit in Kombination mit dem Ritz'schen Verfahren untersucht. Es erweist sich jedoch oft als schwierig, einen angemessenen Näherungsansatz für komplexe Strukturen zu finden, die einer vielschichtigen Belastung ausgesetzt sind. Die Finite-Elemente-Methode (FEM) löst dieses Problem, indem sie einfache Ansatzfunktionen auf überschaubaren Teilbereichen – den sogenannten finiten Elementen – anwendet und diese dann systematisch für das gesamte Gebiet integriert."
   ]
  },
  {
   "cell_type": "markdown",
   "id": "e1b5a5dc",
   "metadata": {
    "editable": true,
    "slideshow": {
     "slide_type": "slide"
    }
   },
   "source": [
    "Als Beispiel hierfür dient die im Bild {numref}`stabelement` dargestellte Diskretisierung eines Stabes mit der Gesamtlänge $\\ell$, der in zwei finite Elemente mit jeweils der Länge $l_i = \\frac{\\ell}{2}$ unterteilt wird. \n",
    "\n",
    "```{admonition} Allgemeines zu Finiten Elementen\n",
    ":class: tip\n",
    "\n",
    "Ein Finites Element besteht in dem vorliegenden Beispiel aus 2 Knoten. Sowohl die Knoten, als auch die Elemente werden im Allgemeinen nummeriert, damit man sie eindeutig ansprechen kann. Im Bild sind die Elementnummern in den rechteckigen Kästen neben dem Element eingetragen. Die Knotennummer sind in den Kreisen neben den Knoten dargestellt. Die Knoten sind die Träger der primären Feldvariablen (hier: Verschiebung $u$) und Ziel der Finiten Elemente Berechnung ist die Bestimmung der primären Variablen, auch Freiheitsgrade (English: Degree of freedom **Dof**) an den Knoten. Im Bild {numref}`stabelement` auf der rechten Seite ist ein einzelnes Stabelement dargestellt. Das Stabelement hat 2 lokale Knoten und um die Verschiebung an diesen Knoten eindeutig zuzuordnen verwenden wir die Notation:\n",
    "\n",
    "$\n",
    "u_1^{e} \\text{ Verschiebung u am lokalen Knoten 1 von Element e}\n",
    "$\n",
    "\n",
    "$\n",
    "u_2^{e} \\text{ Verschiebung u am lokalen Knoten 2 von Element e}\n",
    "$\n",
    "```"
   ]
  },
  {
   "cell_type": "markdown",
   "id": "5475af34",
   "metadata": {
    "editable": true,
    "slideshow": {
     "slide_type": "slide"
    }
   },
   "source": [
    "Auf diesen Elementen werden dann einfache Ansatzfunktionen verwendet, welche eine lineare Approximation des Verschiebungsfeldes darstellen:\n",
    "\n",
    "```{math}\n",
    ":label: LinearDisplacementAnsatz\n",
    "\\begin{align}\n",
    " N_1(\\xi) & = (1-\\xi) \\qquad N_2(\\xi)= \\xi  \\\\\n",
    " u_h(\\xi) & = N_1(\\xi) u_1^{(e)}+ N_2(\\xi) u_2^{(e)} \\\\\n",
    " u_h(\\xi) & = \\sum_{I=1}^2 N_I(\\xi) u_I^{(e)}\n",
    " \\end{align}\n",
    "```\n",
    "\n",
    "hierbei wurde das lokale Koordinatensystem $\\xi = \\frac{x}{\\ell_e} \\; \\in \\; [0,1]$  eingeführt, damit der gewählte Ansatz für alle Stabelmenete, unabhängig der Stablänge $\\ell_e$ gültig ist. In der Matrixschreibweise erhält man für den Ausdruck {eq}`LinearDisplacementAnsatz`:\n",
    "\n",
    "```{math}\n",
    ":label: LinearDisplacementAnsatz2\n",
    "\\begin{align}\n",
    "  u_h(\\xi) & = \\underbrace{\\begin{bmatrix} (1-\\xi) & \\xi \\end{bmatrix}}_{\\bm{N}\\T} \\underbrace{\\begin{bmatrix} u_1^{(e)} \\\\ u_2^{(e)}\\end{bmatrix}}_{\\bm{u}^{(e)}} = \\bm{N}\\T \\bm{u}^{(e)}\n",
    " \\end{align}\n",
    "```"
   ]
  },
  {
   "cell_type": "code",
   "execution_count": null,
   "id": "9ebf5bf3",
   "metadata": {
    "tags": [
     "hide-input"
    ]
   },
   "outputs": [],
   "source": [
    "import numpy as np\n",
    "import matplotlib.pyplot as plt\n",
    "from matplotlib.patches import Circle\n",
    "\n",
    "# Set up the plot configurations.\n",
    "plt.rcParams['lines.linewidth'] = 2.0\n",
    "plt.rcParams['lines.color'] = 'black'\n",
    "plt.rcParams['legend.frameon'] = True\n",
    "plt.rcParams['figure.figsize'] = (8, 6)\n",
    "plt.rcParams['font.family'] = 'serif'\n",
    "plt.rcParams['legend.fontsize'] = 15\n",
    "plt.rcParams['font.size'] = 15\n",
    "plt.rcParams['axes.spines.right'] = False\n",
    "plt.rcParams['axes.spines.top'] = False\n",
    "plt.rcParams['axes.spines.left'] = True\n",
    "plt.rcParams['axes.spines.bottom'] = True\n",
    "plt.rcParams['axes.axisbelow'] = True\n",
    "plt.rcParams['grid.color'] = 'grey'\n",
    "plt.rcParams['grid.alpha'] = 0.6\n",
    "plt.rcParams['grid.linestyle'] = '--'\n",
    "\n",
    "xi = np.linspace(0, 1, 100)\n",
    "\n",
    "# Create a figure and axis.\n",
    "fig, ax = plt.subplots(1, 1)\n",
    "\n",
    "# Plotting the functions.\n",
    "ax.plot(1-xi, xi)\n",
    "ax.plot(xi, xi)\n",
    "\n",
    "# Draw black line from (0,0) to (1,0)\n",
    "ax.plot([0, 1], [0, 0], color='black', linewidth=5.0)\n",
    "\n",
    "# Draw red dots at (0,0) and (1,0)\n",
    "ax.plot(0, 0, 'ro', markersize=10)\n",
    "ax.plot(1, 0, 'ro', markersize=10)\n",
    "\n",
    "# Annotate the red dots.\n",
    "# Draw a circle and add text at the specified location\n",
    "circle = Circle((-0.1, 0.0), 0.05, color='red', fill=False,linewidth=2)\n",
    "circle2 = Circle((1.1, 0.0), 0.05, color='red', fill=False,linewidth=2)\n",
    "ax.add_patch(circle)\n",
    "ax.add_patch(circle2)\n",
    "ax.annotate('1', xy=(0, 0), xytext=(-0.11, -0.02), color='red')\n",
    "ax.annotate('2', xy=(1, 0), xytext=(1.08, -0.02), color='red')\n",
    "\n",
    "# Set labels for the axis\n",
    "ax.set_xlabel(r\"$\\xi$\")\n",
    "ax.set_ylabel(r\"$N(\\xi)$\")\n",
    "\n",
    "# Draw background grid\n",
    "ax.grid(True)\n",
    "\n",
    "# Add legend.\n",
    "ax.legend([r\"$N_1(\\xi)$\", r\"$N_2(\\xi)$\"])"
   ]
  },
  {
   "cell_type": "markdown",
   "id": "50182043",
   "metadata": {
    "editable": true,
    "slideshow": {
     "slide_type": "slide"
    }
   },
   "source": [
    "Zur Berechnung des Prinzips der virtuellen Verrückungen bzw. der schwachen Form wird zusätzlich die Ableitung des Ansatzes für $u_h$ benötigt. Diese repräsentiert die Dehnung des Stabes $\\e = \\Dd{u}{x}$. Da der Ansatz über die normalisierte Koordinate $\\xi$ bestimmt wurde berechnet sich die Ableitung über die Kettenregel:\n",
    "\n",
    "```{math}\n",
    "\\e_h = \\Dd{u_h}{x} = \\Dd{u_h}{\\xi} \\underbrace{\\Dd{\\xi}{x}}_{\\frac{1}{\\ell_e}} = \\frac{1}{\\ell_e} \\begin{bmatrix} -1 & 1 \\end{bmatrix} \\begin{bmatrix} u_1^{(e)} \\\\ u_2^{(e)}\\end{bmatrix} \n",
    "```\n",
    "\n",
    "Für die Variation $\\delta u$ und $\\delta \\e$ wählen wir den gleichen Ansatz:\n",
    "\n",
    "```{math}\n",
    "\\delta u_h = \\begin{bmatrix}  (1-\\xi) & \\xi \\end{bmatrix} \\begin{bmatrix} \\delta u_1^{(e)} \\\\ \\delta u_2^{(e)}\\end{bmatrix} \\qquad \\delta \\e_h = \\frac{1}{\\ell_e} \\begin{bmatrix} -1 & 1 \\end{bmatrix} \\begin{bmatrix} \\delta u_1^{(e)} \\\\ \\delta u_2^{(e)}\\end{bmatrix} \n",
    "```\n",
    "\n",
    "\n",
    "Betrachten wir nun das Prinzip der virtuellen Verrückungen in Gleichung {eq}`stabdglsimple_weak2`:\n",
    "\n",
    "```{math}\n",
    "\\begin{align}\n",
    " \\textcolor{green}{\\int_{0}^{\\ell} \\delta \\e \\cdot E\\e \\, A \\dx} -\\textcolor{red} {\\int_0^{\\ell} \\delta u \\cdot n A \\dx} - \\textcolor{blue}{\\delta u(\\ell) \\cdot F} = 0\\; \n",
    " \\end{align}\n",
    "```\n",
    "\n",
    "und setzen hier unseren gewählten Ansatz für $u$, $\\e$, $\\delta u$ und $\\delta \\e$ ein, dann erhalten wir die folgende Gleichung:\n",
    "\n",
    "\n",
    "```{math}\n",
    ":label: stabFEM1\n",
    "\\begin{align}\n",
    " \\textcolor{green}{\\int_{0}^{1} \\frac{1}{\\ell_e} \\begin{bmatrix} -1 & 1 \\end{bmatrix} \\begin{bmatrix} \\delta u_1^{(e)} \\\\ \\delta u_2^{(e)}\\end{bmatrix}  EA \\frac{1}{\\ell_e} \\begin{bmatrix} -1 & 1 \\end{bmatrix} \\begin{bmatrix} u_1^{(e)} \\\\ u_2^{(e)}\\end{bmatrix}   \\underbrace{\\ell_e \\d \\xi}_{\\dx}} \\\\\n",
    " - \\textcolor{red}{\\int_0^{1} \\begin{bmatrix} (1-\\xi) & \\xi \\end{bmatrix} \\begin{bmatrix} \\delta u_1^{(e)} \\\\ \\delta u_2^{(e)}\\end{bmatrix}  n A \\ell_e \\d \\xi} - \\textcolor{blue}{\\begin{bmatrix} \\delta u_1^{(e)} & \\delta u_2^{(e)}\\end{bmatrix} \\begin{bmatrix} S_1^{(e)} \\\\ S_2^{(e)} \\end{bmatrix}}  = 0\\; \n",
    "\\end{align}\n",
    "```"
   ]
  },
  {
   "cell_type": "markdown",
   "id": "38ff6c28",
   "metadata": {
    "editable": true,
    "slideshow": {
     "slide_type": "slide"
    }
   },
   "source": [
    "Die Variation der Knotenverschiebung $\\delta u_I$ und die Knotenverschiebung $u_I$ sind nicht abhängig von $\\xi$ und können somit aus dem Integranden herrausgezogen werden:\n",
    "\n",
    "```{math}\n",
    ":label: stabFEM2\n",
    "\\begin{align}\n",
    " \\begin{bmatrix} \\delta u_1^{(e)} & \\delta u_2^{(e)}\\end{bmatrix}\\left\\{ \\textcolor{green}{   \\int_{0}^{1} EA \\frac{1}{\\ell_e} \\begin{bmatrix} 1 & -1 \\\\ -1 & 1\\end{bmatrix}  \\d \\xi \\begin{bmatrix} u_1^{(e)} \\\\ u_2^{(e)}\\end{bmatrix}} \\\\\n",
    " - \\textcolor{red}{n \\ell_e A \\int_0^{1} \\begin{bmatrix} (1-\\xi)  \\\\ \\xi \\end{bmatrix}   \\d \\xi} - \\textcolor{blue}{ \\begin{bmatrix} S_1^{(e)} \\\\ S_2^{(e)} \\end{bmatrix}} \\right\\}  = 0\\; \n",
    "\\end{align}\n",
    "```\n",
    "\n",
    "Da die Variation beliebig ist, muss die Gleichung für jeden Faktor separat erfüllt sein. Somit erhält man für jedes Element die Gleichung:\n",
    "\n",
    "```{math}\n",
    ":label: stabFEM3\n",
    "\\begin{align}\n",
    "  \\textcolor{green}{   \\underbrace{\\int_{0}^{1} EA \\frac{1}{\\ell_e} \\begin{bmatrix} 1 & -1 \\\\ -1 & 1\\end{bmatrix}  \\d \\xi}_{\\bm{K}^{(e)}} \\begin{bmatrix} u_1^{(e)} \\\\ u_2^{(e)}\\end{bmatrix}} \n",
    " - \\textcolor{red}{ \\underbrace{n \\ell_e A \\int_0^{1} \\begin{bmatrix} (1-\\xi) \\\\ \\xi  \\end{bmatrix}   \\d \\xi}_{\\bm{F}_V^{(e)}}} - \\textcolor{blue}{ \\underbrace{\\begin{bmatrix} S_1^{(e)} \\\\ S_2^{(e)} \\end{bmatrix}}_{\\bm{F}_K^{(e)}}}  & = 0\\; \\\\\n",
    " \\textcolor{green}{\\bm{K}^{(e)} \\bm{u}^{(e)}} &=  \\textcolor{red}{\\bm{F}_V^{(e)}} + \\textcolor{blue}{\\bm{F}_K^{(e)} } \n",
    "\\end{align}\n",
    "```\n",
    "Dabei ist $\\bm{K}^{(e)}$ die **Elementsteifigkeitsmatrix**, $\\bm{F}_V^{(e)}$ ist der **Vektor der äquivalenten Knotenkräfte** aus den verteilten Lasten und $\\bm{F}_K^{(e)}$ sind die an den Knotenpunkten **eingeprägten Kräfte**. Für dieses einfache Element können die Integrale in Gleichung {eq}`stabFEM3` analytisch berechnet werden. Nach der Integration erhält man:\n",
    "\n",
    "\n",
    "```{math}\n",
    ":label: stabFEM4\n",
    "\\begin{align}\n",
    " \\bm{K}^{(e)} & = EA \\frac{1}{\\ell_e} \\begin{bmatrix} 1 & -1 \\\\ -1 & 1\\end{bmatrix} \\\\\n",
    " \\bm{F}_V^{(e)} & = n \\ell_e A  \\begin{bmatrix} \\frac{1}{2} \\\\ \\frac{1}{2} \\end{bmatrix} \n",
    "\\end{align}\n",
    "```\n",
    "\n",
    "Damit wurde die Differentialgleichung 2. Ordnung in eine algebraische Gleichung umgeformt. Wir haben jetzt für die zwei Finiten Elemente zwei **lokale**, lineare Gleichungssysteme. Diese sind jedoch nicht unabhängig voneinander und müssen im nächsten Schritt in ein **globales** Gleichungssystem assembliert werden."
   ]
  },
  {
   "cell_type": "markdown",
   "id": "c1f7423e",
   "metadata": {
    "editable": true,
    "slideshow": {
     "slide_type": "slide"
    }
   },
   "source": [
    "### Assemblierung der Finiten Elemente\n",
    "\n",
    "Das Ziel dieses Abschnitts ist es, die Entwicklung der Gleichungen für das Gesamtsystem aus den Elementsteifigkeitsmatrizen zu beschreiben. Wir werden die Assemblierungoperationen vorstellen, die hierfür verwendet werden. Diese Operationen sind ein fester Bestandteil der Finite-Elemente-Methode (FEM) und kommen selbst bei den komplexesten Problemen zum Einsatz. Daher ist es wesentlich, diese Verfahren zu beherrschen, um die FEM zu erlernen.\n",
    "\n",
    "Die Elemente im unserem dargestellten Beispiel ({numref}`stabelement`) werden mit den Nummern 1 und 2 bezeichnet, während die Knoten von 1 bis 3 nummeriert sind; weder die Knoten noch die Elemente müssen in einem FEM-Netz in einer bestimmten Reihenfolge nummeriert sein. Wir kommen hierzu nochmal später in der Vorlesung.\n",
    "\n",
    "Beachten Sie, dass die Kraftgrößen der Elemente $S_i^{(e)}$ mit den Indizes 1 und 2 versehen sind. Dies sind die lokalen Knotennummern. Die Knoten des Netzes sind die globalen Knotennummern. Die lokalen Knotennummern eines Stabelements sind immer in der positiven $\\xi$-Richtung mit 1, 2 nummeriert. Die globalen Knotennummern hingegen sind willkürlich."
   ]
  },
  {
   "cell_type": "markdown",
   "id": "c58418a0",
   "metadata": {
    "editable": true,
    "slideshow": {
     "slide_type": "slide"
    }
   },
   "source": [
    "Wir versuchen nun, die lokalen Kräfte $S_i^{(e)}$ für das Element 1 mit den globalen Verschiebungen in Verbindung zu bringen. Betrachten wir zunächst den Knoten 2, welchen sich Element 1 und 2 teilen. Hier gilt für die Verschiebung:\n",
    "\\begin{align}\n",
    "  u_2^{(1)} = u_1^{(2)} = u_2 \\; .\n",
    "\\end{align}\n",
    "\n",
    "```{math}\n",
    ":label: stabFEM5\n",
    "\\begin{align}\n",
    "\\begin{bmatrix}\n",
    "0 \\\\\n",
    "S_2^{(1)}\\\\\n",
    "S_1^{(1)}\n",
    "\\end{bmatrix} + \\frac{1}{2}n\\ell_1 A_1 \\begin{bmatrix}\n",
    "0 \\\\\n",
    "1\\\\\n",
    "1\n",
    "\\end{bmatrix} = \\frac{E_1A_1}{\\ell_1}\\begin{bmatrix}\n",
    "0 & 0 & 0\\\\\n",
    "0 & 1 & -1\\\\\n",
    "0 & -1 & 1\n",
    "\\end{bmatrix} \\begin{bmatrix}\n",
    "u_1 \\\\\n",
    "u_2\\\\\n",
    "u_3\n",
    "\\end{bmatrix}\n",
    "\\end{align} \\; .\n",
    "```"
   ]
  },
  {
   "cell_type": "markdown",
   "id": "897cee5f",
   "metadata": {
    "editable": true,
    "slideshow": {
     "slide_type": "slide"
    }
   },
   "source": [
    "Dazu haben wir lediglich das Elementgleichungssystem {eq}`stabFEM3` genommen und die lokalen Freiheitsgrade $u_i^{(e)}$ durch ihre zugeordneten globalen Freiheitsgrade $u_i$ gemäß den globalen Knotennummern ersetzt. Gleichzeitig haben wir bereits eine zusätzliche Gleichung (1. Zeile) eingeführt. Deren Sinn wird gleich ersichtlich. Das gleiche Vorgehen wenden wir nun auf das Element 2 an:\n",
    "\n",
    "```{math}\n",
    ":label: stabFEM6\n",
    "\\begin{align}\n",
    "\\begin{bmatrix}\n",
    "S_2^{(2)} \\\\\n",
    "S_1^{(2)} \\\\\n",
    "0\n",
    "\\end{bmatrix} + \\frac{1}{2}n\\ell_2 A_2 \\begin{bmatrix}\n",
    "0 \\\\\n",
    "1\\\\\n",
    "1\n",
    "\\end{bmatrix} = \\frac{E_2A_2}{\\ell_2}\\begin{bmatrix}\n",
    "1 & -1 & 0\\\\\n",
    "-1 & 1 & 0\\\\\n",
    "0 & 0 & 0\n",
    "\\end{bmatrix} \\begin{bmatrix}\n",
    "u_1 \\\\\n",
    "u_2\\\\\n",
    "u_3\n",
    "\\end{bmatrix}\n",
    "\\end{align} \\; .\n",
    "```\n",
    "\n",
    "Nun liegen uns zwei Gleichungssysteme vor, welche sich auf die gleichen Freiheitsgrade beziehen. Durch eine Addition erhalten wir schließlich:\n",
    "\n",
    "\n",
    "```{math}\n",
    ":label: stabFEM7\n",
    "\\begin{align}\n",
    "\\begin{bmatrix}\n",
    "S_2^{(2)} \\\\\n",
    "S_1^{(2)} + S_2^{(1)} \\\\\n",
    "S_1^{(1)}\n",
    "\\end{bmatrix} + \\frac{1}{4}n\\ell A \\begin{bmatrix}\n",
    "1 \\\\\n",
    "1+1\\\\\n",
    "1\n",
    "\\end{bmatrix} = \\frac{EA}{\\ell}\\begin{bmatrix}\n",
    "1 & -1 & 0\\\\\n",
    "-1 & 2 & -1\\\\\n",
    "0 & -1 & 1\n",
    "\\end{bmatrix} \\begin{bmatrix}\n",
    "u_1 \\\\\n",
    "u_2\\\\\n",
    "u_3\n",
    "\\end{bmatrix}\n",
    "\\end{align} \\; .\n",
    "```"
   ]
  },
  {
   "cell_type": "markdown",
   "id": "81585c76",
   "metadata": {
    "editable": true,
    "slideshow": {
     "slide_type": "slide"
    }
   },
   "source": [
    "Es bleibt noch übrig die Stabkräfte (innere Kräfte) $S_i$ mit den externen Kräften in Beziehung zu setzen. Für jeden Knoten kann das Kräftegleichgewicht aufgestellt werden:\n",
    "\n",
    "```{math}\n",
    ":label: stabFEM8\n",
    "\\underbrace{\\begin{bmatrix}\n",
    "S_2^{(2)} \\\\\n",
    "S_1^{(2)} \\\\\n",
    "0\n",
    "\\end{bmatrix}}_{\\bm{F}_K^{(2)}} + \\underbrace{\\begin{bmatrix}\n",
    "0 \\\\\n",
    "S_2^{(1)} \\\\\n",
    "S_1^{(1)}\n",
    "\\end{bmatrix}}_{\\bm{F}_K^{(1)}} = \\underbrace{\\begin{bmatrix}\n",
    "F \\\\\n",
    "0 \\\\\n",
    "0\n",
    "\\end{bmatrix}}_{\\bm{F}\\rs{ext}} + \\underbrace{\\begin{bmatrix}\n",
    "0 \\\\\n",
    "0 \\\\\n",
    "R\n",
    "\\end{bmatrix}}_{\\bm{R}} \\;.\n",
    "```\n",
    "\n",
    "Somit können wir die inneren Stabkräfte durch die externen Lasten $\\bm{F}\\rs{ext}$ und Reaktionskräfte $\\bm{R}$ ersetzen:\n",
    "\n",
    "```{math}\n",
    ":label: stabFEM9\n",
    "\\begin{align}\n",
    "\\begin{bmatrix}\n",
    "F \\\\\n",
    "0 \\\\\n",
    "R\n",
    "\\end{bmatrix} + \\frac{1}{4}n\\ell A \\begin{bmatrix}\n",
    "1 \\\\\n",
    "1+1\\\\\n",
    "1\n",
    "\\end{bmatrix} = \\frac{2EA}{\\ell}\\begin{bmatrix}\n",
    "1 & -1 & 0\\\\\n",
    "-1 & 2 & -1\\\\\n",
    "0 & -1 & 1\n",
    "\\end{bmatrix} \\begin{bmatrix}\n",
    "u_1 \\\\\n",
    "u_2\\\\\n",
    "u_3\n",
    "\\end{bmatrix}\n",
    "\\end{align} \\; .\n",
    "```\n",
    "\n",
    "```{admonition} Direkte Assemblierung\n",
    ":class: tip\n",
    "Innerhalb einer FE-Software werden die entsprechenden Matrizen natürlich nicht explizit zunächst auf die Größe der globalen Matrix \"aufgeblasen\" um sie später zu addieren. Über die Zuordnung von lokaler zur globalen Knotennummer kann dies effizient direkt erfolgen.\n",
    "```"
   ]
  },
  {
   "cell_type": "markdown",
   "id": "8f3972fc",
   "metadata": {
    "editable": true,
    "slideshow": {
     "slide_type": "slide"
    }
   },
   "source": [
    "### Lösung des Gleichungssystems\n",
    "\n",
    "In der vorliegenden Form ist die Systemsteifigkeitsmatrix singulär und daher kann das lineare Gleichungssystem so nicht gelöst werden. Das bedeutet aus physikalischer Sicht, dass das System in der Lage ist, Starrkörperbewegungen durchzuführen. Um dieses Problem zu beheben, müssen die kinematischen Randbedingungen integriert werden. Dies geschieht durch Partitionierung des linearen Gleichungssystems. Dabei ordnen wir die Verschiebungsgrößen in bekannte $\\bar{\\bm{u}}$ und unbekannte $\\bm{u}$ Größen:\n",
    "\n",
    "```{math}\n",
    ":label: LGSsolve1\n",
    "\\begin{bmatrix}\n",
    "\\bm{K}_{uu} & \\bm{K}_{u\\bar{u}} \\\\\n",
    "\\bm{K}_{\\bar{u}u} & \\bm{K}_{\\bar{u}\\bar{u}}\n",
    "\\end{bmatrix}\n",
    "\\begin{bmatrix}\n",
    "\\bm{u} \\\\\n",
    "\\bar{\\bm{u}}\n",
    "\\end{bmatrix} = \\begin{bmatrix} \\bm{F}\\rs{ext} \\\\ \\bm{R} \\end{bmatrix} + \\bm{F}_v\n",
    "```\n",
    "Hierbei repräsentiert $\\bm{F}\\rs{ext}$ die einwirkenden Knotenkräfte und $\\bm{R}$ die Reaktionskräfte, die den vorgeschriebenen Verschiebungsgrößen zugeordnet sind. Nun lässt sich die erste Zeile nach den unbekannten Verschiebungen auflösen:\n",
    "\n",
    "```{math}\n",
    ":label: LGSsolve2\n",
    "\\begin{bmatrix}\n",
    "\\bm{K}_{uu}\n",
    "\\end{bmatrix}\n",
    "\\begin{bmatrix}\n",
    "\\bm{u}\n",
    "\\end{bmatrix} = \\begin{bmatrix} \\bm{F}\\rs{ext}\\end{bmatrix} + \\bm{F}_v - \\begin{bmatrix}\n",
    "\\bm{K}_{u\\bar{u}} \n",
    "\\end{bmatrix} \\begin{bmatrix}\n",
    "\\bar{\\bm{u}}\n",
    "\\end{bmatrix}\n",
    "```"
   ]
  },
  {
   "cell_type": "markdown",
   "id": "03c1c5c5",
   "metadata": {
    "editable": true,
    "slideshow": {
     "slide_type": "slide"
    }
   },
   "source": [
    "Mit der Lösung dieses linearen Gleichungssystems erhält man die unbekannten Knotenverschiebungen. Anschließend können die unbekannten Reaktionskräfte einfach durch Matrizenmultiplikation bestimmt werden:\n",
    "\n",
    "\n",
    "```{math}\n",
    ":label: LGSsolve3\n",
    "\\begin{bmatrix} \\bm{R} \\end{bmatrix} = \n",
    "\\begin{bmatrix}\n",
    "\\bm{K}_{\\bar{u}u}\n",
    "\\end{bmatrix}\n",
    "\\begin{bmatrix}\n",
    "\\bm{u}\n",
    "\\end{bmatrix} + \\begin{bmatrix}\n",
    "\\bm{K}_{\\bar{u}\\bar{u}} \n",
    "\\end{bmatrix} \\begin{bmatrix}\n",
    "\\bar{\\bm{u}}\n",
    "\\end{bmatrix}- \\bm{F}_v\n",
    "```"
   ]
  },
  {
   "cell_type": "markdown",
   "id": "1c007620",
   "metadata": {
    "editable": true,
    "slideshow": {
     "slide_type": "slide"
    }
   },
   "source": [
    "Im vorliegenden Beispiel erhalten wir für das Gleichungssystem {eq}`LGSsolve2`:\n",
    "\n",
    "\\begin{align}\n",
    "\\begin{bmatrix}\n",
    "F \\\\\n",
    "0 \\\\\n",
    "\\end{bmatrix} + \\frac{1}{4}n\\ell A \\begin{bmatrix}\n",
    "1 \\\\\n",
    "1+1\n",
    "\\end{bmatrix} - \\frac{2EA}{\\ell}\\begin{bmatrix}\n",
    " 0\\\\\n",
    "-1\n",
    "\\end{bmatrix} \\begin{bmatrix}\n",
    "0\n",
    "\\end{bmatrix} & = \\frac{2EA}{\\ell}\\begin{bmatrix}\n",
    "1 & -1\\\\\n",
    "-1 & 2 \\\\\n",
    "\\end{bmatrix} \\begin{bmatrix}\n",
    "u_1 \\\\\n",
    "u_2\\\\\n",
    "\\end{bmatrix} \\\\\n",
    "\\begin{bmatrix}\n",
    "F +\\frac{1}{4}n\\ell A \\\\\n",
    "\\frac{1}{2}n\\ell A \\\\\n",
    "\\end{bmatrix} & =\n",
    "\\frac{2EA}{\\ell}\\begin{bmatrix}\n",
    "1 & -1\\\\\n",
    "-1 & 2 \\\\\n",
    "\\end{bmatrix} \\begin{bmatrix}\n",
    "u_1 \\\\\n",
    "u_2\\\\\n",
    "\\end{bmatrix} \n",
    "\\end{align}\n",
    "\n",
    "mit der Lösung:\n",
    "\n",
    "\\begin{align}\n",
    "\\begin{bmatrix}\n",
    "u_1 \\\\\n",
    "u_2\\\\\n",
    "\\end{bmatrix} = \\begin{bmatrix}\n",
    " \\frac{F\\ell}{EA} + \\frac{n \\ell^2}{2E}\\\\\n",
    "\\frac{F\\ell}{2EA} + \\frac{3 n \\ell^2}{8E}\n",
    "\\end{bmatrix} \n",
    "\\end{align}\n",
    "\n",
    "Die unbekannte Reaktionskraft am Knoten 3 berechnet sich dann zu:\n",
    "\n",
    "\\begin{align}\n",
    "R + F_v & = \\frac{2EA}{\\ell} \\begin{bmatrix}\n",
    "0 & -1 \n",
    "\\end{bmatrix} \\begin{bmatrix}\n",
    "u_1 \\\\ u_2\n",
    "\\end{bmatrix} + \\begin{bmatrix}\n",
    "1\n",
    "\\end{bmatrix} \\begin{bmatrix}\n",
    "0\n",
    "\\end{bmatrix} \\\\\n",
    "&= -\\frac{2EA}{\\ell} \\left(\\frac{F\\ell}{2EA} + \\frac{3 n \\ell^2}{8E} \\right)- \\frac{1}{4}n\\ell A= -F - n \\ell A \n",
    "\\end{align}"
   ]
  },
  {
   "cell_type": "markdown",
   "id": "4d81ac60",
   "metadata": {
    "editable": true,
    "slideshow": {
     "slide_type": "slide"
    }
   },
   "source": [
    "### Berechnung der Schnittgrößen\n",
    "\n",
    "Die Schnittgrößen $N^{(i)}=\\sigma^{(i)} A$ werden in einer Nachlaufrechnung (Postprocessing) mittels des Materialmodell $\\sigma^{(i)}=E\\e^{(i)}$ bestimmt. Dabei sind die Schnittkräfte:\n",
    "\n",
    "\n",
    "\n",
    "```{math}\n",
    ":label: postproc\n",
    "\\begin{align}\n",
    "N^{(1)} & = 2\\frac{EA}{\\ell} \\begin{bmatrix} -1 & - \\end{bmatrix} \\begin{bmatrix} u_3 \\\\ u_2 \\end{bmatrix} = F + \\frac{3}{4} n A \\ell \\\\\n",
    "N^{(2)} & = 2\\frac{EA}{\\ell} \\begin{bmatrix} -1 & 1 \\end{bmatrix} \\begin{bmatrix} u_2 \\\\ u_1 \\end{bmatrix}= F + \\frac{1}{4} n A \\ell\n",
    "\\end{align}\n",
    "```"
   ]
  },
  {
   "cell_type": "markdown",
   "id": "c361d80f",
   "metadata": {
    "editable": true,
    "slideshow": {
     "slide_type": "slide"
    }
   },
   "source": [
    "### Diskussion der Ergebnisse"
   ]
  },
  {
   "cell_type": "code",
   "execution_count": null,
   "id": "28926536",
   "metadata": {
    "mystnb": {
     "figure": {
      "caption": "Vergleich der analytischen Lösung mit der FE-Lösung.\n",
      "name": "FE-compare"
     }
    },
    "tags": [
     "remove-input"
    ]
   },
   "outputs": [],
   "source": [
    "import numpy as np\n",
    "import matplotlib.pyplot as plt\n",
    "\n",
    "# Set up the plot configurations.\n",
    "plt.rcParams['lines.linewidth'] = 2.0\n",
    "plt.rcParams['lines.color'] = 'black'\n",
    "plt.rcParams['legend.frameon'] = True\n",
    "plt.rcParams['figure.figsize'] = (8, 6)\n",
    "plt.rcParams['font.family'] = 'serif'\n",
    "plt.rcParams['legend.fontsize'] = 15\n",
    "plt.rcParams['font.size'] = 15\n",
    "plt.rcParams['axes.spines.right'] = False\n",
    "plt.rcParams['axes.spines.top'] = False\n",
    "plt.rcParams['axes.spines.left'] = True\n",
    "plt.rcParams['axes.spines.bottom'] = True\n",
    "plt.rcParams['axes.axisbelow'] = True\n",
    "plt.rcParams['grid.color'] = 'grey'\n",
    "plt.rcParams['grid.alpha'] = 0.6\n",
    "plt.rcParams['grid.linestyle'] = '--'\n",
    "\n",
    "sizex = 7.5\n",
    "sizey = 5\n",
    "\n",
    "# Create a figure and axis.\n",
    "fig, ax = plt.subplots(1, 2,figsize=(2*sizex,sizey))\n",
    "\n",
    "F=1\n",
    "E=1\n",
    "A=1\n",
    "l=20\n",
    "n=1\n",
    "\n",
    "x = np.linspace(0, l, 100)\n",
    "\n",
    "\n",
    "# Plotting the functions.\n",
    "ax[0].plot(x, (F/(E*A)+n*l/E)*x-(n/(2*E))*x**2,color='red',linewidth=2.0,label=\"analytische Lösung\")\n",
    "\n",
    "fem_sol=np.array([\n",
    " [0,0],\n",
    " [l/2,F*l/(2*E*A)+3*n*l**2/(8*E)],\n",
    " [l,F*l/(E*A)+n*l**2 / (2*E)]   \n",
    "])\n",
    "\n",
    "#ax[0].scatter(fem_sol[:,0],fem_sol[:,1],color=\"blue\",marker=\"o\",s=100,label=\"FEM\")\n",
    "ax[0].plot(fem_sol[:,0],fem_sol[:,1],color=\"blue\",marker=\"o\",markersize=5,label=\"FEM\")\n",
    "# Set labels for the axis\n",
    "ax[0].set_xlabel(r\"$x$\")\n",
    "ax[0].set_ylabel(r\"$u(x)$\")\n",
    "ax[0].set_title(\"Verschiebungsverlauf\")\n",
    "\n",
    "# Set custom ticks for the x-axis with LaTeX symbols\n",
    "tick_positions = [0, l/2, l]\n",
    "tick_labels = [r\"$0$\", r\"$\\frac{\\ell}{2}$\", r\"$\\ell$\"]\n",
    "ax[0].set_xticks(tick_positions)\n",
    "ax[0].set_xticklabels(tick_labels)\n",
    "ax[0].set_yticks([0,F*l/(2*E*A)+3*n*l**2/(8*E),F*l/(E*A)+n*l**2 / (2*E)])\n",
    "ax[0].set_yticklabels([r\"$0$\",r\"$\\frac{F\\ell}{EA} + \\frac{n \\ell^2}{2E}$\",r\"$\\frac{F\\ell}{2EA} +\\frac{3 n \\ell^2}{8E}$\"])\n",
    "\n",
    "# Draw background grid\n",
    "ax[0].grid(True)\n",
    "\n",
    "# Add a second subplot (you can customize this as needed)\n",
    "# For demonstration, let's just add a simple plot in the second subplot\n",
    "fem_sol_N=np.array([F+3/4*n*A*l,F+1/4*n*A*l])\n",
    "ax[1].plot(x, F+n*A*(l-x), color='red', linewidth=2.0)\n",
    "ax[1].plot([0,l/2],[fem_sol_N[0],fem_sol_N[0]],color='blue',linewidth=2.0)\n",
    "ax[1].plot([l/2,l],[fem_sol_N[1],fem_sol_N[1]],color='blue',linewidth=2.0)\n",
    "ax[1].set_xlabel(r\"$x$\")\n",
    "ax[1].set_ylabel(r\"$N(x)$\")\n",
    "ax[1].set_title(\"Schnittkraftverlauf\")\n",
    "ax[1].grid(True)\n",
    "ax[1].set_xticks(tick_positions)\n",
    "ax[1].set_xticklabels(tick_labels)\n",
    "\n",
    "ax[1].set_yticks([1,F+n*l/2*A,F+n*l])\n",
    "ax[1].set_yticklabels([r\"$F$\",r\"$F+\\frac{nA\\ell}{2}$\",r\"$F+nA\\ell$\"])\n",
    "\n",
    "# Create a common legend below both subplots\n",
    "fig.legend(loc='lower center', bbox_to_anchor=(0.5, -0.08), ncol=2)\n",
    "\n",
    "# Adjust layout to make room for the legend\n",
    "#plt.tight_layout(rect=[0, 0.1, 1, 1])  # Adjust the rect to make space for the legend\n",
    "\n",
    "# Show the plot\n",
    "plt.show()\n",
    "\n",
    "# Add legend.\n",
    "# ax[0].legend([r\"analytische Lösung\", r\"FEM\"])"
   ]
  },
  {
   "cell_type": "markdown",
   "id": "1322f42f",
   "metadata": {},
   "source": [
    "Abbildung {numref}`FE-compare` links zeigt einen Vergleich zwischen dem mit der Finite-Elemente-Methode (FEM) ermittelten Verschiebungsfeld und der analytischen Lösung. Letztere zeigt aufgrund der Eigengewichtsbelastung einen quadratischen Verlauf, während die FEM diesen in Abschnitten durch lineare Näherungen darstellt. In diesem speziellen Fall ist erkennbar, dass die FEM die analytische Lösung an den Knotenpunkten exakt wiedergibt. \n",
    "\n",
    "Im rechten Teil von Abbildung {numref}`FE-compare` wird die FE-Approximation für den Verlauf der Schnittkräfte mit der analytischen Lösung kontrastiert. Die analytische Lösung zeigt ein lineares Wachstum der Normalkraft auf, das jedoch durch die hier verwendeten linearen Ansatzfunktionen lediglich stückweise durch eine konstante Annäherung wiedergegeben wird. Dabei treten an den Grenzen der Elemente Diskontinuitäten in den von der FEM berechneten Schnittkraftverläufen auf. Auffällig ist auch in diesem Beispiel, dass die analytische Lösung im Zentrum jedes Elements exakt erreicht wird.\n",
    "\n",
    "Die Genauigkeit dieser Näherungslösung kann augenscheinlich gesteigert werden, indem man die Anzahl der Elemente erhöht. Dies führt dazu, dass die Sprünge im Verlauf der Schnittkräfte bestehen bleiben, aber kleiner ausfallen. Um eine qualitativ signifikante Verbesserung zu erzielen, empfiehlt es sich, Elemente mit quadratischen Ansatzfunktionen für das Verschiebungsfeld zu nutzen. In diesem Fall wird bereits mit einem einzigen Element, das über drei Knotenpunkte verfügt, die exakte Lösung erlangt. In dieser Situation wäre dann die FEM äquivalent dem Ritz'schen Verfahren.\n",
    "\n",
    "### Konvergenz der Ergebnisse\n",
    "\n",
    "```{figure} images/Stab_Normalkraft_refined.png\n",
    "---\n",
    "width: 600px\n",
    "name: stabelement_refined\n",
    "---\n",
    "Ergebnisse für die Normalspannung in einem Stab unter Eigengewicht mit einer erhöhten Netzfeinheit.\n",
    "```\n",
    "\n",
    "Bei einer immer feiner werdenen Diskretisierung des Stabes, konvergiert die Lösung gegen die analytische Lösung. Dennoch liegen wie in Abbildung {numref}`stabelement_refined` zu sehen, immernoch Spannungssprünge an den Elementgrenzen vor. Betrachtet man die Fehler der Spannungsergebnisse, so zeigt sich, dass dieser Fehler mit steigender Anzahl an Freihheitsgraden abnimmt. Dies ist in Abbildung {numref}`stabelement_error` zu sehen. Im doppelt logaritmischen Maßstab erhält man eine Gerade für die Abnahme des Fehlers. Auch bei der verwendung von Ansatzfunktionen höherer Ordnung reduziert sich der Fehler nur linear im doppeltlogarithmischen Maßstab. Die Steigung ist jedoch höher, sodass im Allgemeinen mit einer verbesserten Konvergenz zu rechnen ist.\n",
    "\n",
    "\n",
    "```{figure} images/Stab_error_convergence.png\n",
    "---\n",
    "width: 600px\n",
    "name: stabelement_error\n",
    "---\n",
    "Konvergenz der Spannungsergebniss in einem Stab unter Eigengewicht mit steigender Anzahl an Freihheitsgraden.\n",
    "```\n",
    "\n",
    "## Interactives Notebook\n",
    "\n",
    "asierend auf der präsentierten Theorie wurde ein Jupyter Notebook erstellt. Dieses kann man ohne Systemvorraussetzungen im Browser ausführen:\n",
    "\n",
    "StabFEM for Binder: [![Binder](https://mybinder.org/badge_logo.svg)](https://mybinder.org/v2/gh/steffenbeese/FEM_I_Notebooks/main?urlpath=%2Fdoc%2Ftree%2FNotebook_StabFEM.ipynb)\n",
    "\n",
    "\n",
    "\n",
    "```{admonition} Fragen zum Kapitel\n",
    ":class: warning\n",
    "\n",
    "**StabFEM**\n",
    "\n",
    "- Was unterscheidet das Verfahren von Ritz von der FEM?\n",
    "- Welches Problem hat man beim Verfahren von Ritz bezüglich der Anssatzfunktion?\n",
    "- Skizzieren Sie die Formfunktionen für ein lineares Stabelement mit 2 Knoten.\n",
    "- Auf Elementebene werden die Steifigkeitsmatrizen und die Lastvektoren berechnet. Was passiert danach mit diesen Größen?\n",
    "- Das globale Gleichungssystem kann nicht gelöst werden. Die Steifigkeitsmatrix ist singulär. Was könnte der Grund dafür sein?\n",
    "\n",
    "```"
   ]
  }
 ],
 "metadata": {
  "jupytext": {
   "text_representation": {
    "extension": ".md",
    "format_name": "myst",
    "format_version": 0.13,
    "jupytext_version": "1.16.7"
   }
  },
  "source_map": [
   10,
   39,
   68,
   82,
   94,
   112,
   127,
   148,
   160,
   181,
   199,
   221,
   281,
   315,
   350,
   361,
   391,
   444,
   500,
   533,
   554,
   617,
   635,
   639,
   740
  ]
 },
 "nbformat": 4,
 "nbformat_minor": 5
}