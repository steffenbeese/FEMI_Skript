{
 "cells": [
  {
   "cell_type": "markdown",
   "id": "3cf19896",
   "metadata": {
    "editable": true,
    "slideshow": {
     "slide_type": "slide"
    }
   },
   "source": [
    "# Numerische Modelle in der Mechanik\n",
    "\n",
    "Die numerische Mechanik bedient sich computergestützter Techniken zur Ermittlung von Näherungslösungen für Differentialgleichungen, die physikalische Problemstellungen beschreiben. Es wird zwischen zwei Hauptarten der Modellbildung unterschieden:\n",
    "\n",
    "- Diskrete Modelle\n",
    "- Kontinuierliche Modelle"
   ]
  },
  {
   "cell_type": "markdown",
   "id": "ea12a3af",
   "metadata": {
    "editable": true,
    "slideshow": {
     "slide_type": "slide"
    }
   },
   "source": [
    "## Diskrete Modelle\n",
    "\n",
    "Diskrete Modelle der Mechanik basieren auf massebehafteten, starren Massepunkten oder Körpern, die durch Kraftpotentiale oder Federverbindungen miteinander in Wechselwirkung stehen. Solche Potentiale werden verwendet, um Interaktionen zwischen atomaren Partikeln (Molekulardynamik) oder Planeten (Gravitationsgesetze) zu modellieren. \n",
    "\n",
    "Ein weiteres Anwendungsgebiet in der diskreten Modellierung der Mechanik sind Mechanismen: Systeme aus kinematisch verbundenen, starren Körpern, verbunden durch Kontakte und diskret modellierte elastische Feder- und Dämpferelementen. Beispiele hierfür sind industrielle Fertigungsmaschinen oder der Mechanismus eines Kugelschreibers, von Spannelementen oder Fahrwerken."
   ]
  },
  {
   "cell_type": "markdown",
   "id": "b2825c92",
   "metadata": {
    "editable": true,
    "slideshow": {
     "slide_type": "slide"
    }
   },
   "source": [
    "```{figure} ./images/MKS_Robot.png\n",
    "---\n",
    "height: 300px\n",
    "name: MKS\n",
    "---\n",
    "Mehrkörperproblem eines zweiarmigen Roboters nach {cite}`featherstone2014rigid`\n",
    "```\n",
    "\n",
    "Die mathematische Beschreibung solcher Modelle resultiert typischerweise in einem System gekoppelter Bewegungsgleichungen:\n",
    "\n",
    "\n",
    "\\begin{equation}\n",
    "\\boldsymbol{M} \\ddot{\\boldsymbol{x}} + \\boldsymbol{D} \\dot{\\boldsymbol{x}} + \\boldsymbol{K} \\boldsymbol{x} = \\boldsymbol{f}(t)\n",
    "\\end{equation}\n",
    "\n",
    "Hierbei repräsentiert $\\boldsymbol{x}$ die Position des Massepunktes im Raum und $\\ddot{\\boldsymbol{x}}$ dessen Beschleunigung. Die Trägheitsmatrix $\\boldsymbol{M}$ approximiert die Massenträgheit der Körper, während die Steifigkeitsmatrix $\\boldsymbol{K}$ die elastischen Bindungen darstellt. Die Matrix $\\boldsymbol{D}$ führt Dämpfungsterme in das System ein und $\\boldsymbol{f}(t)$ sind äußere zeitabhängige Kräfte."
   ]
  },
  {
   "cell_type": "markdown",
   "id": "1e03a3ba",
   "metadata": {
    "editable": true,
    "slideshow": {
     "slide_type": "slide"
    }
   },
   "source": [
    "Bei Mechanismen kommen oft Nebenbedingungen wie Kontaktbedingungen oder Regelungsalgorithmen hinzu, was zu Differential-Algebraischen-Gleichungssystemen (DAE) führt.\n",
    "\n",
    "Die Herausforderung in der diskreten Mechanik liegt in der Modellierung: Das System muss abstrahiert, Gleichungen und Bedingungen formuliert und für den Rechner aufbereitet werden. Die numerische Aufgabe besteht dann hauptsächlich darin, die Bewegungsgleichungen über die Zeit zu integrieren. In der Festkörpermechanik sind zwei Methoden etabliert:\n",
    "\n",
    "- Molekular-Dynamik Simulation (MDS) {cite}`grotendorst2009multiscale`\n",
    "- Mehr-Körper-Simulation (MKS) {cite}`shabana1997flexible`\n",
    "\n",
    "Für strömungsmechanische Fragestellungen sind ebenfalls Partikelmethoden wie die Gitter-Boltzmann-Methode etabliert."
   ]
  },
  {
   "cell_type": "markdown",
   "id": "15961d0f",
   "metadata": {
    "editable": true,
    "slideshow": {
     "slide_type": "slide"
    }
   },
   "source": [
    "### Anwendungen für MKS\n",
    "\n",
    "Die hier gezeigten Beispiele stammen aus der freien MKS-Software der TU-München [MBSim](https://www.mbsim-env.de/)\n",
    "\n",
    "<iframe width=\"640\" height=\"480\" src=\"https://www.mbsim-env.de/static/home/videos/xml_planetary_gear.317ba38de10c.webm\" frameborder=\"0\" allowfullscreen></iframe>\n",
    "\n",
    "**Mehrkörpersimulation eines Planeten Getriebe**\n",
    "\n",
    "<iframe width=\"640\" height=\"480\" src=\"https://www.mbsim-env.de/static/home/videos/xml_spinning_plate.c5e942e12401.webm\" frameborder=\"0\" allowfullscreen></iframe>\n",
    "\n",
    "**Mehrkörpersimulation eines rotierenden Tellers**"
   ]
  },
  {
   "cell_type": "markdown",
   "id": "a1dde58d",
   "metadata": {
    "editable": true,
    "slideshow": {
     "slide_type": "slide"
    }
   },
   "source": [
    "## Kontinuierliche Modelle\n",
    "\n",
    "Die Modellbildung in diesem Bereich geht von einem gleichförmigen (homogenen) Materialverhalten aus. Feinheiten der komplexen atomaren Interaktionen, wie sie beispielsweise in Kristallstrukturen auftreten und auf sehr kleinen zeitlichen sowie räumlichen Skalen stattfinden, werden hierbei im Sinne einer statistischen Mittelung vereinfacht dargestellt. Die zugrundeliegende Vorstellung ist die eines Kontinuums, dessen Charakteristika mithilfe von partiellen Differentialgleichungen (Feldgleichungen) räumlich und zeitlich erfasst werden können. Dieses Feld gehört zur Disziplin der Kontinuumsmechanik."
   ]
  },
  {
   "cell_type": "markdown",
   "id": "015606e7",
   "metadata": {
    "editable": true,
    "slideshow": {
     "slide_type": "slide"
    }
   },
   "source": [
    "In dieser Lehrveranstaltung konzentrieren wir uns auf die Behandlung dieser Feldgleichungen und ihre näherungsweise Lösung durch numerische Verfahren, insbesondere für Fragestellungen der linearen Elastizitätslehre. Es sollte jedoch erwähnt werden, dass vergleichbare Feldtheorien auch in anderen Bereichen, wie zum Beispiel bei elektromagnetischen Feldern, Anwendung finden und die Methoden entsprechend adaptiert werden können."
   ]
  },
  {
   "cell_type": "markdown",
   "id": "6f2c1af2",
   "metadata": {
    "editable": true,
    "slideshow": {
     "slide_type": "slide"
    }
   },
   "source": [
    "Unser Fokus liegt auf der Finite-Elemente-Methode (FEM), wobei auch die Finite-Differenzen-Methode am Rande behandelt wird. Die Finite-Elemente-Methode gilt aktuell als das effektivste Verfahren zur näherungsweisen Lösung partieller Differentialgleichungen in der Festkörpermechanik. Kommerzielle Softwarelösungen sind weit verbreitet und werden industriell genutzt. Ein wesentliches Lernziel dieses Kurses ist es daher, ein fundiertes Verständnis für die Finite-Elemente-Methode zu entwickeln, um sie sachgemäß in der Praxis anwenden zu können."
   ]
  },
  {
   "cell_type": "markdown",
   "id": "76bb0500",
   "metadata": {
    "editable": true,
    "slideshow": {
     "slide_type": "slide"
    }
   },
   "source": [
    "In der Fluidmechanik hat sich die FEM aufgrund der besonderen Beschaffenheit der Differentialgleichungen nicht durchgesetzt, was ebenfalls thematisiert wird. In diesem Gebiet sind traditionell die Finite-Differenzen-Methode und heute vermehrt die Finite-Volumen-Methode gebräuchlich.\n",
    "\n",
    "\n",
    "```{admonition} Fragen zum Kapitel\n",
    ":class: warning\n",
    "\n",
    "**Diskrete Modell**\n",
    "\n",
    "- Wie treten Körper innerhalb der diskreten Mechanik in Interaktion?\n",
    "- Welche Gleichung ist die Grundlage der Simulation von  Mehrkörpersystemen?\n",
    "- Welche zwei Methoden sind in der diskreten Mechanik etabliert?\n",
    "- Was ist die numerische Herausforderung in der diskreten Mechanik?\n",
    "- Welche ingeneur-technische Herausforderung gilt es in der diskreten Mechanik zu bewältigen?\n",
    "\n",
    "**Kontinuierliche Modelle**\n",
    "- Welcher Gleichungstyp liegen den kontinuierlichen Modellen der Mechanik zugrunde?  \n",
    "- Was ist korrekt?\n",
    "  - [ ] Die kontinuierlichen Modelle sind die Grundlage der FEM.\n",
    "  - [ ] In den kontinuierlichen Modellen werden komplexe zwischen-atomare Interaktionen berücksichtigt.\n",
    "  - [ ] Das Material wird als homogen angesehen.\n",
    "  - [ ] Die FEM ist besonders für die Fluidmechanik geeignet. \n",
    "\n",
    "```"
   ]
  }
 ],
 "metadata": {
  "jupytext": {
   "text_representation": {
    "extension": ".md",
    "format_name": "myst",
    "format_version": 0.13,
    "jupytext_version": "1.16.7"
   }
  },
  "kernelspec": {
   "display_name": "Python 3 (ipykernel)",
   "language": "python",
   "name": "python3"
  },
  "source_map": [
   13,
   22,
   30,
   49,
   60,
   74,
   81,
   85,
   89
  ]
 },
 "nbformat": 4,
 "nbformat_minor": 5
}