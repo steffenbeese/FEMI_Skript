{
 "cells": [
  {
   "cell_type": "markdown",
   "id": "8ccc26a8",
   "metadata": {},
   "source": [
    "# Die Finite Elemente Methode\n",
    "\n",
    "## Die schwache Form"
   ]
  }
 ],
 "metadata": {
  "jupytext": {
   "text_representation": {
    "extension": ".md",
    "format_name": "myst",
    "format_version": 0.13,
    "jupytext_version": "1.16.7"
   }
  },
  "source_map": [
   8
  ]
 },
 "nbformat": 4,
 "nbformat_minor": 5
}