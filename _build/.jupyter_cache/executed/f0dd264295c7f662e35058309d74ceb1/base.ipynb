{
 "cells": [
  {
   "cell_type": "code",
   "execution_count": null,
   "id": "ec59a919",
   "metadata": {},
   "outputs": [],
   "source": []
  }
 ],
 "metadata": {
  "jupytext": {
   "text_representation": {
    "extension": ".md",
    "format_name": "myst",
    "format_version": 0.13,
    "jupytext_version": "1.16.7"
   }
  },
  "kernelspec": {
   "display_name": "Python 3 (ipykernel)",
   "language": "python",
   "name": "python3"
  },
  "language_info": {
   "codemirror_mode": {
    "name": "ipython",
    "version": 3
   },
   "file_extension": ".py",
   "mimetype": "text/x-python",
   "name": "python",
   "nbconvert_exporter": "python",
   "pygments_lexer": "ipython3",
   "version": "3.10.16"
  },
  "source_map": [
   14,
   76,
   97,
   116,
   160,
   181,
   206,
   227,
   252,
   273,
   290,
   306,
   320,
   352,
   376,
   389,
   436,
   467,
   479,
   525,
   540,
   551,
   580,
   618,
   642,
   697,
   764
  ]
 },
 "nbformat": 4,
 "nbformat_minor": 5
}