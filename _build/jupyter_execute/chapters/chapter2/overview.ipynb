{
 "cells": [
  {
   "cell_type": "markdown",
   "id": "bc050365",
   "metadata": {},
   "source": [
    "# Überblick über verschiedene Lösungsmethoden\n",
    "\n",
    "## FDM\n",
    "\n",
    "## FVM\n",
    "\n",
    "## FEM"
   ]
  }
 ],
 "metadata": {
  "jupytext": {
   "text_representation": {
    "extension": ".md",
    "format_name": "myst",
    "format_version": 0.13,
    "jupytext_version": "1.16.7"
   }
  },
  "language_info": {
   "codemirror_mode": {
    "name": "ipython",
    "version": 3
   },
   "file_extension": ".py",
   "mimetype": "text/x-python",
   "name": "python",
   "nbconvert_exporter": "python",
   "pygments_lexer": "ipython3",
   "version": "3.10.16"
  },
  "source_map": [
   8
  ]
 },
 "nbformat": 4,
 "nbformat_minor": 5
}