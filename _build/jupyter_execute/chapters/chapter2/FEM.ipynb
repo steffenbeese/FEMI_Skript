{
 "cells": [
  {
   "cell_type": "markdown",
   "id": "053b05f2",
   "metadata": {
    "editable": true,
    "slideshow": {
     "slide_type": "skip"
    }
   },
   "source": [
    "<!-- $\n",
    "\\newcommand{\\MtdFull}[1]{\\frac{D \\, #1}{D \\, t}}\n",
    "\\newcommand{\\Pd}[2]{\\frac{\\partial #1}{\\partial #2}}\n",
    "\\newcommand{\\d}{\\text{d} }\n",
    "\\newcommand{\\Dd}[2]{\\frac{\\d #1}{\\d #2}}\n",
    "\\newcommand{\\dt}[1]{#1 ^{\\bullet}}\n",
    "\\newcommand{\\dV}{\\; \\text{d}V}\n",
    "\\newcommand{\\dA}{\\; \\text{d}A}\n",
    "\\newcommand{\\dx}{\\; \\text{ d}x}\n",
    "\\newcommand{\\dy}{\\; \\text{ d}y}\n",
    "\\newcommand{\\dz}{\\; \\text{ d}z}\n",
    "\\newcommand{\\dxi}{\\; \\text{ d}\\xi}\n",
    "\\newcommand{\\deta}{\\; \\text{ d}\\eta}\n",
    "\\newcommand{\\dzeta}{\\; \\text{ d}\\zeta}\n",
    "\\newcommand{\\grad}[1]{\\text{grad}\\left(#1\\right)}\n",
    "\\renewcommand{\\div}[1]{\\text{div} \\left(#1\\right)}\n",
    "\\newcommand{\\td}[1]{\\dot{#1}}\n",
    "\\newcommand{\\tdd}[1]{\\ddot{#1}}\n",
    "\\newcommand{\\T}{\\rp{T}}\n",
    "\\newcommand{\\rp}[1]{^{\\text{#1}}}\n",
    "\\newcommand{\\rs}[1]{_{\\text{#1}}}\n",
    "\\renewcommand{\\bm}[1]{\\boldsymbol{#1}}\n",
    "\\newcommand{\\e}{\\epsilon}\n",
    "\\newcommand{\\eb}{\\bm{\\e}}\n",
    "\\newcommand{\\s}{\\sigma}\n",
    "\\newcommand{\\sb}{\\bm{\\sigma}}\n",
    "$ -->"
   ]
  },
  {
   "cell_type": "markdown",
   "id": "19da2b9c",
   "metadata": {
    "editable": true,
    "slideshow": {
     "slide_type": "slide"
    }
   },
   "source": [
    "# Von der starken zur schwachen Form\n",
    "\n",
    "Für die in Kapitel 1 eingeführten Randwertprobleme (Massenbilanz, Impulsbilanz und Energiebilanz) wird in diesem Kapitel die theoretischen Grundlagen der Finite Elemente Methode beschrieben. Für jedes der genannten Probleme ist der Ausgangspunkte die **starke** Form der beschreibenden partiellen Differentialgleichung. Am Beispiel der Impulsbilanz soll exemplarisch die zugehörige **schwache** Form hergeleitet werden. Die Begrifflichkeit stark und schwach bezieht sich hierbei auf die Stetigkeits- und Differenzierbarkeitsanforderungen der gesuchten Lösung $\\bm{u}$. Die starke Form hat somit **immer** höhere Anforderungen an die Lösung.\n",
    "\n",
    "```{figure} ../chapter1/images/Impulsbilanz.jpg\n",
    "---\n",
    "height: 400px\n",
    "name: impulsbilanz\n",
    "---\n",
    "Körper $\\mathcal{B}$ unter Einwirkung der externen Oberflächenkraft $\\tilde{\\bm{t}}$ und der Volumenlast $\\bm{b}$\n",
    "```"
   ]
  },
  {
   "cell_type": "markdown",
   "id": "0f805bc1",
   "metadata": {
    "editable": true,
    "slideshow": {
     "slide_type": "slide"
    }
   },
   "source": [
    "Ausgangspunkt für die exemplarische Herleitung ist die Impulsbilanz in der quasistatischen Form (ohne Trägheitsterme):\n",
    "\n",
    "```{math}\n",
    ":label: weakform_01\n",
    "0 = \\div{\\bm{\\sigma}} + \\rho \\bm{b} \n",
    "```\n",
    "Diese starke form wird jetzt mit einer beliebigen vektorwertigen Testfunktion $\\delta \\bm{u}$ multipliziert und über das betrachtete Gebiet $\\mathcal{B}$ (den betrachteten Körper) integriert.\n",
    "\n",
    "```{math}\n",
    ":label: weakform_02\n",
    "0 = \\int_{\\mathcal{B}} \\delta  \\bm{u}\\T \\left(\\div{\\bm{\\sigma}} + \\rho \\bm{b} \\right) \\dV\n",
    "```\n",
    "\n",
    "Dieser Schritt bedeutet, dass wir im Weiteren versuchen werden, die gekoppelten partiellen Differentialgleichungen nicht punktuell exakt, sondern im gewichteten integralen Mittel zu erfüllen. Für elastomechanische Problemstellungen kann die Testfunktion $\\delta \\bm{u}$ als virtuelle Verrückung aufgefasst werden und die Gleichung {eq}`weakform_02` als das bekannte Prinzip der virtuellen Verrückung aufgefasst werden. Das hier gezeigte Vorgehen ist aber unabhängig von der Elastostatik allgemeingültig."
   ]
  },
  {
   "cell_type": "markdown",
   "id": "b9eec1bb",
   "metadata": {
    "editable": true,
    "slideshow": {
     "slide_type": "slide"
    }
   },
   "source": [
    "Als nächstes integrieren wir die Gleichung {eq}`weakform_02` partiell. Dafür wenden wir zunächst die Produktregel auf den Divergenzterm an: \n",
    "\n",
    "```{math}\n",
    ":label: divergenzsatz\n",
    "\\int_{\\mathcal{B}} \\delta \\bm{u}\\T \\div{\\bm{\\sigma}} \\dV = \\int_{\\mathcal{B}} \\div{\\delta \\bm{u}\\T \\bm{\\sigma}} \\dV -\\int_{\\mathcal{B}} \\underbrace{\\grad{\\delta\\bm{u}\\T}}_{\\delta \\bm{\\eb}}\\bm{\\sigma} \\dV \\; . \n",
    "```\n",
    "\n",
    "Der Wechsel vom Divergenz-Operator zum Gradienten-Operator im zweiten Term auf der rechten Seite lässt sich schlüssig damit erklären, dass das Resultat ein Skalar sein soll. Während die Divergenz eines Vektors einen Skalar liefert, ergibt der Gradient eines Vektors einen Tensor zweiter Ordnung. Dieser Tensor wird dann in einer doppelten skalaren Multiplikation mit einem weiteren Tensor zweiter Ordnung verknüpft, was letztlich zu einem skalaren Ergebnis führt."
   ]
  },
  {
   "cell_type": "markdown",
   "id": "5d670623",
   "metadata": {
    "editable": true,
    "slideshow": {
     "slide_type": "slide"
    }
   },
   "source": [
    "Nun lässt sich mit dem Gauß'schen Ingegralsatz der erste Term auf der rechten Seite von Gleichung {eq}`divergenzsatz` als Integral über den Rand formulieren:\n",
    "\n",
    "```{math}\n",
    ":label: gaussIntegralTheorem\n",
    "\\int_{\\mathcal{B}} \\div{\\delta \\bm{u}\\T  \\bm{\\sigma}} \\dV = \\int_{\\partial\\mathcal{B}} \\delta \\bm{u}\\T \\bm{\\sigma}  \\bm{n} \\dA = \\int_{\\partial\\mathcal{B}} \\delta \\bm{u}\\T \\bm{t} \\dA \\; . \n",
    "```\n",
    "\n",
    "Dieses Resultat wird jetzt wieder in Gleichung {eq}`weakform_02` eingesetzt und wir erhalten:\n",
    "\n",
    "```{math}\n",
    ":label: weakform_03\n",
    "\\int_{\\mathcal{B}} \\delta\\eb\\T  \\bm{\\sigma} \\dV = \\int_{\\mathcal{B}} \\delta \\bm{u}\\T \\rho \\bm{b} \\dV + \\int_{\\partial\\mathcal{B}} \\delta \\bm{u}\\T  \\bm{t} \\dA \\; .\n",
    "```"
   ]
  },
  {
   "cell_type": "markdown",
   "id": "2f213c0d",
   "metadata": {
    "editable": true,
    "slideshow": {
     "slide_type": "slide"
    }
   },
   "source": [
    "```{admonition} Was haben wir damit erreicht?\n",
    ":class: tip\n",
    "\n",
    "- der Oberflächenterm in {eq}`weakform_03` entspricht den Kraftrandbedingungen \n",
    "- der Term auf der linken Seite in {eq}`weakform_03` enthält nur noch Ableitungen 1. Ordnung von $\\bm{u}$, während in {eq}`weakform_01` Ableitungen 2. Ordnung gefordert wurden $\\rightarrow$ schwächere Anforderungen an $\\bm{u}$!\n",
    "- Gleichung {eq}`weakform_03` ist exakt das Prinzip der virtuellen Verrückungen\n",
    "  -  virtuelle Arbeit der Spannungen an den Verzerrungen ist gleich der virtuelle Arbeit der eingeprägten Volumenkräfte plus die virtuelle Arbeit der Oberflächenkräfte\n",
    "```"
   ]
  },
  {
   "cell_type": "markdown",
   "id": "b7a0fd82",
   "metadata": {
    "editable": true,
    "slideshow": {
     "slide_type": "slide"
    }
   },
   "source": [
    "Setzen wir jetzt noch als Materialmodell die Beschreibung der linearen Elastizität ein, so erhalten wir final:\n",
    "\n",
    "```{math}\n",
    ":label: weakform_04\n",
    "\\int_{\\mathcal{B}} \\delta\\eb\\T \\bm{C} \\eb \\dV = \\int_{\\mathcal{B}} \\delta \\bm{u}\\T \\rho \\bm{b} \\dV + \\int_{\\partial\\mathcal{B}} \\delta \\bm{u}\\T \\cdot \\bm{t} \\dA \\; .\n",
    "```"
   ]
  }
 ],
 "metadata": {
  "jupytext": {
   "text_representation": {
    "extension": ".md",
    "format_name": "myst",
    "format_version": 0.13,
    "jupytext_version": "1.16.7"
   }
  },
  "source_map": [
   10,
   41,
   56,
   74,
   86,
   102,
   113
  ]
 },
 "nbformat": 4,
 "nbformat_minor": 5
}